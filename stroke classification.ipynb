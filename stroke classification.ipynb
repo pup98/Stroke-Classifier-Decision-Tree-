{
 "cells": [
  {
   "cell_type": "code",
   "execution_count": 3,
   "metadata": {},
   "outputs": [],
   "source": [
    "import numpy as np\n",
    "import pandas as pd\n",
    "from sklearn.tree import DecisionTreeClassifier\n",
    "import matplotlib.pyplot as plt\n",
    "%matplotlib inline"
   ]
  },
  {
   "cell_type": "markdown",
   "metadata": {},
   "source": [
    "\n",
    "# Analyze the data"
   ]
  },
  {
   "cell_type": "code",
   "execution_count": 4,
   "metadata": {},
   "outputs": [
    {
     "data": {
      "text/html": [
       "<div>\n",
       "<style scoped>\n",
       "    .dataframe tbody tr th:only-of-type {\n",
       "        vertical-align: middle;\n",
       "    }\n",
       "\n",
       "    .dataframe tbody tr th {\n",
       "        vertical-align: top;\n",
       "    }\n",
       "\n",
       "    .dataframe thead th {\n",
       "        text-align: right;\n",
       "    }\n",
       "</style>\n",
       "<table border=\"1\" class=\"dataframe\">\n",
       "  <thead>\n",
       "    <tr style=\"text-align: right;\">\n",
       "      <th></th>\n",
       "      <th>id</th>\n",
       "      <th>gender</th>\n",
       "      <th>age</th>\n",
       "      <th>hypertension</th>\n",
       "      <th>heart_disease</th>\n",
       "      <th>ever_married</th>\n",
       "      <th>work_type</th>\n",
       "      <th>Residence_type</th>\n",
       "      <th>avg_glucose_level</th>\n",
       "      <th>bmi</th>\n",
       "      <th>smoking_status</th>\n",
       "      <th>stroke</th>\n",
       "    </tr>\n",
       "  </thead>\n",
       "  <tbody>\n",
       "    <tr>\n",
       "      <th>0</th>\n",
       "      <td>9046</td>\n",
       "      <td>Male</td>\n",
       "      <td>67.0</td>\n",
       "      <td>0</td>\n",
       "      <td>1</td>\n",
       "      <td>Yes</td>\n",
       "      <td>Private</td>\n",
       "      <td>Urban</td>\n",
       "      <td>228.69</td>\n",
       "      <td>36.6</td>\n",
       "      <td>formerly smoked</td>\n",
       "      <td>1</td>\n",
       "    </tr>\n",
       "    <tr>\n",
       "      <th>1</th>\n",
       "      <td>51676</td>\n",
       "      <td>Female</td>\n",
       "      <td>61.0</td>\n",
       "      <td>0</td>\n",
       "      <td>0</td>\n",
       "      <td>Yes</td>\n",
       "      <td>Self-employed</td>\n",
       "      <td>Rural</td>\n",
       "      <td>202.21</td>\n",
       "      <td>NaN</td>\n",
       "      <td>never smoked</td>\n",
       "      <td>1</td>\n",
       "    </tr>\n",
       "    <tr>\n",
       "      <th>2</th>\n",
       "      <td>31112</td>\n",
       "      <td>Male</td>\n",
       "      <td>80.0</td>\n",
       "      <td>0</td>\n",
       "      <td>1</td>\n",
       "      <td>Yes</td>\n",
       "      <td>Private</td>\n",
       "      <td>Rural</td>\n",
       "      <td>105.92</td>\n",
       "      <td>32.5</td>\n",
       "      <td>never smoked</td>\n",
       "      <td>1</td>\n",
       "    </tr>\n",
       "    <tr>\n",
       "      <th>3</th>\n",
       "      <td>60182</td>\n",
       "      <td>Female</td>\n",
       "      <td>49.0</td>\n",
       "      <td>0</td>\n",
       "      <td>0</td>\n",
       "      <td>Yes</td>\n",
       "      <td>Private</td>\n",
       "      <td>Urban</td>\n",
       "      <td>171.23</td>\n",
       "      <td>34.4</td>\n",
       "      <td>smokes</td>\n",
       "      <td>1</td>\n",
       "    </tr>\n",
       "    <tr>\n",
       "      <th>4</th>\n",
       "      <td>1665</td>\n",
       "      <td>Female</td>\n",
       "      <td>79.0</td>\n",
       "      <td>1</td>\n",
       "      <td>0</td>\n",
       "      <td>Yes</td>\n",
       "      <td>Self-employed</td>\n",
       "      <td>Rural</td>\n",
       "      <td>174.12</td>\n",
       "      <td>24.0</td>\n",
       "      <td>never smoked</td>\n",
       "      <td>1</td>\n",
       "    </tr>\n",
       "  </tbody>\n",
       "</table>\n",
       "</div>"
      ],
      "text/plain": [
       "      id  gender   age  hypertension  heart_disease ever_married  \\\n",
       "0   9046    Male  67.0             0              1          Yes   \n",
       "1  51676  Female  61.0             0              0          Yes   \n",
       "2  31112    Male  80.0             0              1          Yes   \n",
       "3  60182  Female  49.0             0              0          Yes   \n",
       "4   1665  Female  79.0             1              0          Yes   \n",
       "\n",
       "       work_type Residence_type  avg_glucose_level   bmi   smoking_status  \\\n",
       "0        Private          Urban             228.69  36.6  formerly smoked   \n",
       "1  Self-employed          Rural             202.21   NaN     never smoked   \n",
       "2        Private          Rural             105.92  32.5     never smoked   \n",
       "3        Private          Urban             171.23  34.4           smokes   \n",
       "4  Self-employed          Rural             174.12  24.0     never smoked   \n",
       "\n",
       "   stroke  \n",
       "0       1  \n",
       "1       1  \n",
       "2       1  \n",
       "3       1  \n",
       "4       1  "
      ]
     },
     "execution_count": 4,
     "metadata": {},
     "output_type": "execute_result"
    }
   ],
   "source": [
    "df = pd.read_csv('healthcare-dataset-stroke-data.csv')\n",
    "df.head()"
   ]
  },
  {
   "cell_type": "code",
   "execution_count": 5,
   "metadata": {},
   "outputs": [
    {
     "data": {
      "text/plain": [
       "Index(['id', 'gender', 'age', 'hypertension', 'heart_disease', 'ever_married',\n",
       "       'work_type', 'Residence_type', 'avg_glucose_level', 'bmi',\n",
       "       'smoking_status', 'stroke'],\n",
       "      dtype='object')"
      ]
     },
     "execution_count": 5,
     "metadata": {},
     "output_type": "execute_result"
    }
   ],
   "source": [
    "df.columns"
   ]
  },
  {
   "cell_type": "code",
   "execution_count": 6,
   "metadata": {},
   "outputs": [
    {
     "data": {
      "text/html": [
       "<div>\n",
       "<style scoped>\n",
       "    .dataframe tbody tr th:only-of-type {\n",
       "        vertical-align: middle;\n",
       "    }\n",
       "\n",
       "    .dataframe tbody tr th {\n",
       "        vertical-align: top;\n",
       "    }\n",
       "\n",
       "    .dataframe thead th {\n",
       "        text-align: right;\n",
       "    }\n",
       "</style>\n",
       "<table border=\"1\" class=\"dataframe\">\n",
       "  <thead>\n",
       "    <tr style=\"text-align: right;\">\n",
       "      <th></th>\n",
       "      <th>id</th>\n",
       "      <th>age</th>\n",
       "      <th>hypertension</th>\n",
       "      <th>heart_disease</th>\n",
       "      <th>avg_glucose_level</th>\n",
       "      <th>bmi</th>\n",
       "      <th>stroke</th>\n",
       "    </tr>\n",
       "  </thead>\n",
       "  <tbody>\n",
       "    <tr>\n",
       "      <th>count</th>\n",
       "      <td>5110.000000</td>\n",
       "      <td>5110.000000</td>\n",
       "      <td>5110.000000</td>\n",
       "      <td>5110.000000</td>\n",
       "      <td>5110.000000</td>\n",
       "      <td>4909.000000</td>\n",
       "      <td>5110.000000</td>\n",
       "    </tr>\n",
       "    <tr>\n",
       "      <th>mean</th>\n",
       "      <td>36517.829354</td>\n",
       "      <td>43.226614</td>\n",
       "      <td>0.097456</td>\n",
       "      <td>0.054012</td>\n",
       "      <td>106.147677</td>\n",
       "      <td>28.893237</td>\n",
       "      <td>0.048728</td>\n",
       "    </tr>\n",
       "    <tr>\n",
       "      <th>std</th>\n",
       "      <td>21161.721625</td>\n",
       "      <td>22.612647</td>\n",
       "      <td>0.296607</td>\n",
       "      <td>0.226063</td>\n",
       "      <td>45.283560</td>\n",
       "      <td>7.854067</td>\n",
       "      <td>0.215320</td>\n",
       "    </tr>\n",
       "    <tr>\n",
       "      <th>min</th>\n",
       "      <td>67.000000</td>\n",
       "      <td>0.080000</td>\n",
       "      <td>0.000000</td>\n",
       "      <td>0.000000</td>\n",
       "      <td>55.120000</td>\n",
       "      <td>10.300000</td>\n",
       "      <td>0.000000</td>\n",
       "    </tr>\n",
       "    <tr>\n",
       "      <th>25%</th>\n",
       "      <td>17741.250000</td>\n",
       "      <td>25.000000</td>\n",
       "      <td>0.000000</td>\n",
       "      <td>0.000000</td>\n",
       "      <td>77.245000</td>\n",
       "      <td>23.500000</td>\n",
       "      <td>0.000000</td>\n",
       "    </tr>\n",
       "    <tr>\n",
       "      <th>50%</th>\n",
       "      <td>36932.000000</td>\n",
       "      <td>45.000000</td>\n",
       "      <td>0.000000</td>\n",
       "      <td>0.000000</td>\n",
       "      <td>91.885000</td>\n",
       "      <td>28.100000</td>\n",
       "      <td>0.000000</td>\n",
       "    </tr>\n",
       "    <tr>\n",
       "      <th>75%</th>\n",
       "      <td>54682.000000</td>\n",
       "      <td>61.000000</td>\n",
       "      <td>0.000000</td>\n",
       "      <td>0.000000</td>\n",
       "      <td>114.090000</td>\n",
       "      <td>33.100000</td>\n",
       "      <td>0.000000</td>\n",
       "    </tr>\n",
       "    <tr>\n",
       "      <th>max</th>\n",
       "      <td>72940.000000</td>\n",
       "      <td>82.000000</td>\n",
       "      <td>1.000000</td>\n",
       "      <td>1.000000</td>\n",
       "      <td>271.740000</td>\n",
       "      <td>97.600000</td>\n",
       "      <td>1.000000</td>\n",
       "    </tr>\n",
       "  </tbody>\n",
       "</table>\n",
       "</div>"
      ],
      "text/plain": [
       "                 id          age  hypertension  heart_disease  \\\n",
       "count   5110.000000  5110.000000   5110.000000    5110.000000   \n",
       "mean   36517.829354    43.226614      0.097456       0.054012   \n",
       "std    21161.721625    22.612647      0.296607       0.226063   \n",
       "min       67.000000     0.080000      0.000000       0.000000   \n",
       "25%    17741.250000    25.000000      0.000000       0.000000   \n",
       "50%    36932.000000    45.000000      0.000000       0.000000   \n",
       "75%    54682.000000    61.000000      0.000000       0.000000   \n",
       "max    72940.000000    82.000000      1.000000       1.000000   \n",
       "\n",
       "       avg_glucose_level          bmi       stroke  \n",
       "count        5110.000000  4909.000000  5110.000000  \n",
       "mean          106.147677    28.893237     0.048728  \n",
       "std            45.283560     7.854067     0.215320  \n",
       "min            55.120000    10.300000     0.000000  \n",
       "25%            77.245000    23.500000     0.000000  \n",
       "50%            91.885000    28.100000     0.000000  \n",
       "75%           114.090000    33.100000     0.000000  \n",
       "max           271.740000    97.600000     1.000000  "
      ]
     },
     "execution_count": 6,
     "metadata": {},
     "output_type": "execute_result"
    }
   ],
   "source": [
    "df.describe()"
   ]
  },
  {
   "cell_type": "code",
   "execution_count": 7,
   "metadata": {},
   "outputs": [
    {
     "name": "stdout",
     "output_type": "stream",
     "text": [
      "<class 'pandas.core.frame.DataFrame'>\n",
      "RangeIndex: 5110 entries, 0 to 5109\n",
      "Data columns (total 12 columns):\n",
      " #   Column             Non-Null Count  Dtype  \n",
      "---  ------             --------------  -----  \n",
      " 0   id                 5110 non-null   int64  \n",
      " 1   gender             5110 non-null   object \n",
      " 2   age                5110 non-null   float64\n",
      " 3   hypertension       5110 non-null   int64  \n",
      " 4   heart_disease      5110 non-null   int64  \n",
      " 5   ever_married       5110 non-null   object \n",
      " 6   work_type          5110 non-null   object \n",
      " 7   Residence_type     5110 non-null   object \n",
      " 8   avg_glucose_level  5110 non-null   float64\n",
      " 9   bmi                4909 non-null   float64\n",
      " 10  smoking_status     5110 non-null   object \n",
      " 11  stroke             5110 non-null   int64  \n",
      "dtypes: float64(3), int64(4), object(5)\n",
      "memory usage: 479.2+ KB\n"
     ]
    }
   ],
   "source": [
    "df.info()"
   ]
  },
  {
   "cell_type": "code",
   "execution_count": 8,
   "metadata": {},
   "outputs": [
    {
     "data": {
      "text/plain": [
       "array(['Private', 'Self-employed', 'Govt_job', 'children', 'Never_worked'],\n",
       "      dtype=object)"
      ]
     },
     "execution_count": 8,
     "metadata": {},
     "output_type": "execute_result"
    }
   ],
   "source": [
    "df['work_type'].unique() # to individually find attributes of a categorical variable"
   ]
  },
  {
   "cell_type": "code",
   "execution_count": 9,
   "metadata": {},
   "outputs": [
    {
     "data": {
      "text/plain": [
       "id                     int64\n",
       "gender                object\n",
       "age                  float64\n",
       "hypertension           int64\n",
       "heart_disease          int64\n",
       "ever_married          object\n",
       "work_type             object\n",
       "Residence_type        object\n",
       "avg_glucose_level    float64\n",
       "bmi                  float64\n",
       "smoking_status        object\n",
       "stroke                 int64\n",
       "dtype: object"
      ]
     },
     "execution_count": 9,
     "metadata": {},
     "output_type": "execute_result"
    }
   ],
   "source": [
    "df.dtypes"
   ]
  },
  {
   "cell_type": "code",
   "execution_count": 10,
   "metadata": {},
   "outputs": [
    {
     "name": "stdout",
     "output_type": "stream",
     "text": [
      "Female    2994\n",
      "Male      2115\n",
      "Other        1\n",
      "Name: gender, dtype: int64\n",
      "Yes    3353\n",
      "No     1757\n",
      "Name: ever_married, dtype: int64\n",
      "Private          2925\n",
      "Self-employed     819\n",
      "children          687\n",
      "Govt_job          657\n",
      "Never_worked       22\n",
      "Name: work_type, dtype: int64\n",
      "Urban    2596\n",
      "Rural    2514\n",
      "Name: Residence_type, dtype: int64\n",
      "never smoked       1892\n",
      "Unknown            1544\n",
      "formerly smoked     885\n",
      "smokes              789\n",
      "Name: smoking_status, dtype: int64\n",
      "0    4861\n",
      "1     249\n",
      "Name: stroke, dtype: int64\n"
     ]
    }
   ],
   "source": [
    "for i in df[['gender', 'ever_married', 'work_type', 'Residence_type', 'smoking_status', 'stroke']]:\n",
    "    print(df[i].value_counts())\n"
   ]
  },
  {
   "cell_type": "code",
   "execution_count": 11,
   "metadata": {},
   "outputs": [
    {
     "data": {
      "text/plain": [
       "id                     0\n",
       "gender                 0\n",
       "age                    0\n",
       "hypertension           0\n",
       "heart_disease          0\n",
       "ever_married           0\n",
       "work_type              0\n",
       "Residence_type         0\n",
       "avg_glucose_level      0\n",
       "bmi                  201\n",
       "smoking_status         0\n",
       "stroke                 0\n",
       "dtype: int64"
      ]
     },
     "execution_count": 11,
     "metadata": {},
     "output_type": "execute_result"
    }
   ],
   "source": [
    "df.isnull().sum()"
   ]
  },
  {
   "cell_type": "code",
   "execution_count": 25,
   "metadata": {},
   "outputs": [
    {
     "data": {
      "text/html": [
       "<div>\n",
       "<style scoped>\n",
       "    .dataframe tbody tr th:only-of-type {\n",
       "        vertical-align: middle;\n",
       "    }\n",
       "\n",
       "    .dataframe tbody tr th {\n",
       "        vertical-align: top;\n",
       "    }\n",
       "\n",
       "    .dataframe thead th {\n",
       "        text-align: right;\n",
       "    }\n",
       "</style>\n",
       "<table border=\"1\" class=\"dataframe\">\n",
       "  <thead>\n",
       "    <tr style=\"text-align: right;\">\n",
       "      <th></th>\n",
       "      <th>gender</th>\n",
       "      <th>age</th>\n",
       "      <th>hypertension</th>\n",
       "      <th>heart_disease</th>\n",
       "      <th>ever_married</th>\n",
       "      <th>work_type</th>\n",
       "      <th>Residence_type</th>\n",
       "      <th>avg_glucose_level</th>\n",
       "      <th>bmi</th>\n",
       "      <th>smoking_status</th>\n",
       "      <th>stroke</th>\n",
       "    </tr>\n",
       "  </thead>\n",
       "  <tbody>\n",
       "    <tr>\n",
       "      <th>0</th>\n",
       "      <td>Male</td>\n",
       "      <td>67.0</td>\n",
       "      <td>0</td>\n",
       "      <td>1</td>\n",
       "      <td>Yes</td>\n",
       "      <td>Private</td>\n",
       "      <td>Urban</td>\n",
       "      <td>228.69</td>\n",
       "      <td>36.6</td>\n",
       "      <td>formerly smoked</td>\n",
       "      <td>1</td>\n",
       "    </tr>\n",
       "    <tr>\n",
       "      <th>1</th>\n",
       "      <td>Female</td>\n",
       "      <td>61.0</td>\n",
       "      <td>0</td>\n",
       "      <td>0</td>\n",
       "      <td>Yes</td>\n",
       "      <td>Self-employed</td>\n",
       "      <td>Rural</td>\n",
       "      <td>202.21</td>\n",
       "      <td>NaN</td>\n",
       "      <td>never smoked</td>\n",
       "      <td>1</td>\n",
       "    </tr>\n",
       "    <tr>\n",
       "      <th>2</th>\n",
       "      <td>Male</td>\n",
       "      <td>80.0</td>\n",
       "      <td>0</td>\n",
       "      <td>1</td>\n",
       "      <td>Yes</td>\n",
       "      <td>Private</td>\n",
       "      <td>Rural</td>\n",
       "      <td>105.92</td>\n",
       "      <td>32.5</td>\n",
       "      <td>never smoked</td>\n",
       "      <td>1</td>\n",
       "    </tr>\n",
       "    <tr>\n",
       "      <th>3</th>\n",
       "      <td>Female</td>\n",
       "      <td>49.0</td>\n",
       "      <td>0</td>\n",
       "      <td>0</td>\n",
       "      <td>Yes</td>\n",
       "      <td>Private</td>\n",
       "      <td>Urban</td>\n",
       "      <td>171.23</td>\n",
       "      <td>34.4</td>\n",
       "      <td>smokes</td>\n",
       "      <td>1</td>\n",
       "    </tr>\n",
       "    <tr>\n",
       "      <th>4</th>\n",
       "      <td>Female</td>\n",
       "      <td>79.0</td>\n",
       "      <td>1</td>\n",
       "      <td>0</td>\n",
       "      <td>Yes</td>\n",
       "      <td>Self-employed</td>\n",
       "      <td>Rural</td>\n",
       "      <td>174.12</td>\n",
       "      <td>24.0</td>\n",
       "      <td>never smoked</td>\n",
       "      <td>1</td>\n",
       "    </tr>\n",
       "  </tbody>\n",
       "</table>\n",
       "</div>"
      ],
      "text/plain": [
       "   gender   age  hypertension  heart_disease ever_married      work_type  \\\n",
       "0    Male  67.0             0              1          Yes        Private   \n",
       "1  Female  61.0             0              0          Yes  Self-employed   \n",
       "2    Male  80.0             0              1          Yes        Private   \n",
       "3  Female  49.0             0              0          Yes        Private   \n",
       "4  Female  79.0             1              0          Yes  Self-employed   \n",
       "\n",
       "  Residence_type  avg_glucose_level   bmi   smoking_status  stroke  \n",
       "0          Urban             228.69  36.6  formerly smoked       1  \n",
       "1          Rural             202.21   NaN     never smoked       1  \n",
       "2          Rural             105.92  32.5     never smoked       1  \n",
       "3          Urban             171.23  34.4           smokes       1  \n",
       "4          Rural             174.12  24.0     never smoked       1  "
      ]
     },
     "execution_count": 25,
     "metadata": {},
     "output_type": "execute_result"
    }
   ],
   "source": [
    "new_df = df[['gender','age' ,'hypertension','heart_disease','ever_married','work_type','Residence_type','avg_glucose_level','bmi','smoking_status','stroke']]\n",
    "new_df.head()"
   ]
  },
  {
   "cell_type": "markdown",
   "metadata": {},
   "source": [
    "### Adjusting the null values in BMI column to the median to column"
   ]
  },
  {
   "cell_type": "code",
   "execution_count": 26,
   "metadata": {},
   "outputs": [
    {
     "name": "stderr",
     "output_type": "stream",
     "text": [
      "C:\\Users\\Ujjwal\\AppData\\Local\\Temp\\ipykernel_8960\\843436326.py:1: SettingWithCopyWarning: \n",
      "A value is trying to be set on a copy of a slice from a DataFrame\n",
      "\n",
      "See the caveats in the documentation: https://pandas.pydata.org/pandas-docs/stable/user_guide/indexing.html#returning-a-view-versus-a-copy\n",
      "  new_df['bmi'].fillna(new_df['bmi'].median(), inplace=True)\n"
     ]
    }
   ],
   "source": [
    "new_df['bmi'].fillna(new_df['bmi'].median(), inplace=True)"
   ]
  },
  {
   "cell_type": "code",
   "execution_count": 27,
   "metadata": {},
   "outputs": [
    {
     "data": {
      "text/html": [
       "<div>\n",
       "<style scoped>\n",
       "    .dataframe tbody tr th:only-of-type {\n",
       "        vertical-align: middle;\n",
       "    }\n",
       "\n",
       "    .dataframe tbody tr th {\n",
       "        vertical-align: top;\n",
       "    }\n",
       "\n",
       "    .dataframe thead th {\n",
       "        text-align: right;\n",
       "    }\n",
       "</style>\n",
       "<table border=\"1\" class=\"dataframe\">\n",
       "  <thead>\n",
       "    <tr style=\"text-align: right;\">\n",
       "      <th></th>\n",
       "      <th>gender</th>\n",
       "      <th>age</th>\n",
       "      <th>hypertension</th>\n",
       "      <th>heart_disease</th>\n",
       "      <th>ever_married</th>\n",
       "      <th>work_type</th>\n",
       "      <th>Residence_type</th>\n",
       "      <th>avg_glucose_level</th>\n",
       "      <th>bmi</th>\n",
       "      <th>smoking_status</th>\n",
       "      <th>stroke</th>\n",
       "    </tr>\n",
       "  </thead>\n",
       "  <tbody>\n",
       "    <tr>\n",
       "      <th>0</th>\n",
       "      <td>Male</td>\n",
       "      <td>67.0</td>\n",
       "      <td>0</td>\n",
       "      <td>1</td>\n",
       "      <td>Yes</td>\n",
       "      <td>Private</td>\n",
       "      <td>Urban</td>\n",
       "      <td>228.69</td>\n",
       "      <td>36.6</td>\n",
       "      <td>formerly smoked</td>\n",
       "      <td>1</td>\n",
       "    </tr>\n",
       "    <tr>\n",
       "      <th>1</th>\n",
       "      <td>Female</td>\n",
       "      <td>61.0</td>\n",
       "      <td>0</td>\n",
       "      <td>0</td>\n",
       "      <td>Yes</td>\n",
       "      <td>Self-employed</td>\n",
       "      <td>Rural</td>\n",
       "      <td>202.21</td>\n",
       "      <td>28.1</td>\n",
       "      <td>never smoked</td>\n",
       "      <td>1</td>\n",
       "    </tr>\n",
       "    <tr>\n",
       "      <th>2</th>\n",
       "      <td>Male</td>\n",
       "      <td>80.0</td>\n",
       "      <td>0</td>\n",
       "      <td>1</td>\n",
       "      <td>Yes</td>\n",
       "      <td>Private</td>\n",
       "      <td>Rural</td>\n",
       "      <td>105.92</td>\n",
       "      <td>32.5</td>\n",
       "      <td>never smoked</td>\n",
       "      <td>1</td>\n",
       "    </tr>\n",
       "    <tr>\n",
       "      <th>3</th>\n",
       "      <td>Female</td>\n",
       "      <td>49.0</td>\n",
       "      <td>0</td>\n",
       "      <td>0</td>\n",
       "      <td>Yes</td>\n",
       "      <td>Private</td>\n",
       "      <td>Urban</td>\n",
       "      <td>171.23</td>\n",
       "      <td>34.4</td>\n",
       "      <td>smokes</td>\n",
       "      <td>1</td>\n",
       "    </tr>\n",
       "    <tr>\n",
       "      <th>4</th>\n",
       "      <td>Female</td>\n",
       "      <td>79.0</td>\n",
       "      <td>1</td>\n",
       "      <td>0</td>\n",
       "      <td>Yes</td>\n",
       "      <td>Self-employed</td>\n",
       "      <td>Rural</td>\n",
       "      <td>174.12</td>\n",
       "      <td>24.0</td>\n",
       "      <td>never smoked</td>\n",
       "      <td>1</td>\n",
       "    </tr>\n",
       "  </tbody>\n",
       "</table>\n",
       "</div>"
      ],
      "text/plain": [
       "   gender   age  hypertension  heart_disease ever_married      work_type  \\\n",
       "0    Male  67.0             0              1          Yes        Private   \n",
       "1  Female  61.0             0              0          Yes  Self-employed   \n",
       "2    Male  80.0             0              1          Yes        Private   \n",
       "3  Female  49.0             0              0          Yes        Private   \n",
       "4  Female  79.0             1              0          Yes  Self-employed   \n",
       "\n",
       "  Residence_type  avg_glucose_level   bmi   smoking_status  stroke  \n",
       "0          Urban             228.69  36.6  formerly smoked       1  \n",
       "1          Rural             202.21  28.1     never smoked       1  \n",
       "2          Rural             105.92  32.5     never smoked       1  \n",
       "3          Urban             171.23  34.4           smokes       1  \n",
       "4          Rural             174.12  24.0     never smoked       1  "
      ]
     },
     "execution_count": 27,
     "metadata": {},
     "output_type": "execute_result"
    }
   ],
   "source": [
    "new_df.head()"
   ]
  },
  {
   "cell_type": "code",
   "execution_count": 28,
   "metadata": {},
   "outputs": [
    {
     "name": "stderr",
     "output_type": "stream",
     "text": [
      "C:\\Users\\Ujjwal\\AppData\\Local\\Temp\\ipykernel_8960\\2424946676.py:1: SettingWithCopyWarning: \n",
      "A value is trying to be set on a copy of a slice from a DataFrame\n",
      "\n",
      "See the caveats in the documentation: https://pandas.pydata.org/pandas-docs/stable/user_guide/indexing.html#returning-a-view-versus-a-copy\n",
      "  new_df.drop(df.index[df['age'] < 1], inplace=True)\n"
     ]
    }
   ],
   "source": [
    "new_df.drop(df.index[df['age'] < 1], inplace=True)"
   ]
  },
  {
   "cell_type": "code",
   "execution_count": 29,
   "metadata": {},
   "outputs": [
    {
     "name": "stdout",
     "output_type": "stream",
     "text": [
      "<class 'pandas.core.frame.DataFrame'>\n",
      "Int64Index: 5067 entries, 0 to 5109\n",
      "Data columns (total 11 columns):\n",
      " #   Column             Non-Null Count  Dtype  \n",
      "---  ------             --------------  -----  \n",
      " 0   gender             5067 non-null   object \n",
      " 1   age                5067 non-null   float64\n",
      " 2   hypertension       5067 non-null   int64  \n",
      " 3   heart_disease      5067 non-null   int64  \n",
      " 4   ever_married       5067 non-null   object \n",
      " 5   work_type          5067 non-null   object \n",
      " 6   Residence_type     5067 non-null   object \n",
      " 7   avg_glucose_level  5067 non-null   float64\n",
      " 8   bmi                5067 non-null   float64\n",
      " 9   smoking_status     5067 non-null   object \n",
      " 10  stroke             5067 non-null   int64  \n",
      "dtypes: float64(3), int64(3), object(5)\n",
      "memory usage: 475.0+ KB\n"
     ]
    }
   ],
   "source": [
    "new_df.info() # 5110 entries to 5067 entries"
   ]
  },
  {
   "cell_type": "code",
   "execution_count": 30,
   "metadata": {},
   "outputs": [
    {
     "name": "stderr",
     "output_type": "stream",
     "text": [
      "C:\\Users\\Ujjwal\\AppData\\Local\\Temp\\ipykernel_8960\\2415827520.py:6: SettingWithCopyWarning: \n",
      "A value is trying to be set on a copy of a slice from a DataFrame.\n",
      "Try using .loc[row_indexer,col_indexer] = value instead\n",
      "\n",
      "See the caveats in the documentation: https://pandas.pydata.org/pandas-docs/stable/user_guide/indexing.html#returning-a-view-versus-a-copy\n",
      "  new_df[['age','avg_glucose_level']] = pd.DataFrame(scaler.fit_transform(\n"
     ]
    },
    {
     "data": {
      "text/html": [
       "<div>\n",
       "<style scoped>\n",
       "    .dataframe tbody tr th:only-of-type {\n",
       "        vertical-align: middle;\n",
       "    }\n",
       "\n",
       "    .dataframe tbody tr th {\n",
       "        vertical-align: top;\n",
       "    }\n",
       "\n",
       "    .dataframe thead th {\n",
       "        text-align: right;\n",
       "    }\n",
       "</style>\n",
       "<table border=\"1\" class=\"dataframe\">\n",
       "  <thead>\n",
       "    <tr style=\"text-align: right;\">\n",
       "      <th></th>\n",
       "      <th>gender</th>\n",
       "      <th>age</th>\n",
       "      <th>hypertension</th>\n",
       "      <th>heart_disease</th>\n",
       "      <th>ever_married</th>\n",
       "      <th>work_type</th>\n",
       "      <th>Residence_type</th>\n",
       "      <th>avg_glucose_level</th>\n",
       "      <th>bmi</th>\n",
       "      <th>smoking_status</th>\n",
       "      <th>stroke</th>\n",
       "    </tr>\n",
       "  </thead>\n",
       "  <tbody>\n",
       "    <tr>\n",
       "      <th>0</th>\n",
       "      <td>Male</td>\n",
       "      <td>1.051434</td>\n",
       "      <td>0</td>\n",
       "      <td>1</td>\n",
       "      <td>Yes</td>\n",
       "      <td>Private</td>\n",
       "      <td>Urban</td>\n",
       "      <td>2.706375</td>\n",
       "      <td>36.6</td>\n",
       "      <td>formerly smoked</td>\n",
       "      <td>1</td>\n",
       "    </tr>\n",
       "    <tr>\n",
       "      <th>1</th>\n",
       "      <td>Female</td>\n",
       "      <td>0.786070</td>\n",
       "      <td>0</td>\n",
       "      <td>0</td>\n",
       "      <td>Yes</td>\n",
       "      <td>Self-employed</td>\n",
       "      <td>Rural</td>\n",
       "      <td>2.121559</td>\n",
       "      <td>28.1</td>\n",
       "      <td>never smoked</td>\n",
       "      <td>1</td>\n",
       "    </tr>\n",
       "    <tr>\n",
       "      <th>2</th>\n",
       "      <td>Male</td>\n",
       "      <td>1.626390</td>\n",
       "      <td>0</td>\n",
       "      <td>1</td>\n",
       "      <td>Yes</td>\n",
       "      <td>Private</td>\n",
       "      <td>Rural</td>\n",
       "      <td>-0.005028</td>\n",
       "      <td>32.5</td>\n",
       "      <td>never smoked</td>\n",
       "      <td>1</td>\n",
       "    </tr>\n",
       "    <tr>\n",
       "      <th>3</th>\n",
       "      <td>Female</td>\n",
       "      <td>0.255342</td>\n",
       "      <td>0</td>\n",
       "      <td>0</td>\n",
       "      <td>Yes</td>\n",
       "      <td>Private</td>\n",
       "      <td>Urban</td>\n",
       "      <td>1.437358</td>\n",
       "      <td>34.4</td>\n",
       "      <td>smokes</td>\n",
       "      <td>1</td>\n",
       "    </tr>\n",
       "    <tr>\n",
       "      <th>4</th>\n",
       "      <td>Female</td>\n",
       "      <td>1.582163</td>\n",
       "      <td>1</td>\n",
       "      <td>0</td>\n",
       "      <td>Yes</td>\n",
       "      <td>Self-employed</td>\n",
       "      <td>Rural</td>\n",
       "      <td>1.501184</td>\n",
       "      <td>24.0</td>\n",
       "      <td>never smoked</td>\n",
       "      <td>1</td>\n",
       "    </tr>\n",
       "  </tbody>\n",
       "</table>\n",
       "</div>"
      ],
      "text/plain": [
       "   gender       age  hypertension  heart_disease ever_married      work_type  \\\n",
       "0    Male  1.051434             0              1          Yes        Private   \n",
       "1  Female  0.786070             0              0          Yes  Self-employed   \n",
       "2    Male  1.626390             0              1          Yes        Private   \n",
       "3  Female  0.255342             0              0          Yes        Private   \n",
       "4  Female  1.582163             1              0          Yes  Self-employed   \n",
       "\n",
       "  Residence_type  avg_glucose_level   bmi   smoking_status  stroke  \n",
       "0          Urban           2.706375  36.6  formerly smoked       1  \n",
       "1          Rural           2.121559  28.1     never smoked       1  \n",
       "2          Rural          -0.005028  32.5     never smoked       1  \n",
       "3          Urban           1.437358  34.4           smokes       1  \n",
       "4          Rural           1.501184  24.0     never smoked       1  "
      ]
     },
     "execution_count": 30,
     "metadata": {},
     "output_type": "execute_result"
    }
   ],
   "source": [
    "#Data Scalling\n",
    "from sklearn.preprocessing import StandardScaler\n",
    "\n",
    "scaler = StandardScaler()\n",
    "\n",
    "new_df[['age','avg_glucose_level']] = pd.DataFrame(scaler.fit_transform(\n",
    "    df[['age','avg_glucose_level']]))\n",
    "\n",
    "\n",
    "new_df.head()"
   ]
  },
  {
   "cell_type": "code",
   "execution_count": 31,
   "metadata": {},
   "outputs": [
    {
     "name": "stdout",
     "output_type": "stream",
     "text": [
      "                        age  hypertension  heart_disease  avg_glucose_level  \\\n",
      "age                1.000000      0.275457       0.264057           0.238304   \n",
      "hypertension       0.275457      1.000000       0.107715           0.174181   \n",
      "heart_disease      0.264057      0.107715       1.000000           0.161688   \n",
      "avg_glucose_level  0.238304      0.174181       0.161688           1.000000   \n",
      "bmi                0.309963      0.155969       0.034478           0.166113   \n",
      "stroke             0.245426      0.127359       0.134517           0.131739   \n",
      "\n",
      "                        bmi    stroke  \n",
      "age                0.309963  0.245426  \n",
      "hypertension       0.155969  0.127359  \n",
      "heart_disease      0.034478  0.134517  \n",
      "avg_glucose_level  0.166113  0.131739  \n",
      "bmi                1.000000  0.033811  \n",
      "stroke             0.033811  1.000000  \n"
     ]
    }
   ],
   "source": [
    "print(new_df.corr())"
   ]
  },
  {
   "cell_type": "code",
   "execution_count": 32,
   "metadata": {},
   "outputs": [
    {
     "name": "stderr",
     "output_type": "stream",
     "text": [
      "C:\\Users\\Ujjwal\\AppData\\Local\\Temp\\ipykernel_8960\\1187970603.py:1: SettingWithCopyWarning: \n",
      "A value is trying to be set on a copy of a slice from a DataFrame.\n",
      "Try using .loc[row_indexer,col_indexer] = value instead\n",
      "\n",
      "See the caveats in the documentation: https://pandas.pydata.org/pandas-docs/stable/user_guide/indexing.html#returning-a-view-versus-a-copy\n",
      "  new_df['stroke'] = new_df.stroke.astype(str)\n"
     ]
    },
    {
     "data": {
      "text/plain": [
       "gender                object\n",
       "age                  float64\n",
       "hypertension           int64\n",
       "heart_disease          int64\n",
       "ever_married          object\n",
       "work_type             object\n",
       "Residence_type        object\n",
       "avg_glucose_level    float64\n",
       "bmi                  float64\n",
       "smoking_status        object\n",
       "stroke                object\n",
       "dtype: object"
      ]
     },
     "execution_count": 32,
     "metadata": {},
     "output_type": "execute_result"
    }
   ],
   "source": [
    "new_df['stroke'] = new_df.stroke.astype(str)\n",
    "\n",
    "'''or can also use apply method'''\n",
    "\n",
    "# new_df['stroke'] = new_df['stroke'].apply(str)\n",
    "\n",
    "new_df.dtypes "
   ]
  },
  {
   "cell_type": "markdown",
   "metadata": {},
   "source": [
    "# X and y for the data"
   ]
  },
  {
   "cell_type": "code",
   "execution_count": 33,
   "metadata": {},
   "outputs": [
    {
     "data": {
      "text/html": [
       "<div>\n",
       "<style scoped>\n",
       "    .dataframe tbody tr th:only-of-type {\n",
       "        vertical-align: middle;\n",
       "    }\n",
       "\n",
       "    .dataframe tbody tr th {\n",
       "        vertical-align: top;\n",
       "    }\n",
       "\n",
       "    .dataframe thead th {\n",
       "        text-align: right;\n",
       "    }\n",
       "</style>\n",
       "<table border=\"1\" class=\"dataframe\">\n",
       "  <thead>\n",
       "    <tr style=\"text-align: right;\">\n",
       "      <th></th>\n",
       "      <th>gender</th>\n",
       "      <th>age</th>\n",
       "      <th>hypertension</th>\n",
       "      <th>heart_disease</th>\n",
       "      <th>ever_married</th>\n",
       "      <th>work_type</th>\n",
       "      <th>Residence_type</th>\n",
       "      <th>avg_glucose_level</th>\n",
       "      <th>bmi</th>\n",
       "      <th>smoking_status</th>\n",
       "    </tr>\n",
       "  </thead>\n",
       "  <tbody>\n",
       "    <tr>\n",
       "      <th>0</th>\n",
       "      <td>Male</td>\n",
       "      <td>1.051434</td>\n",
       "      <td>0</td>\n",
       "      <td>1</td>\n",
       "      <td>Yes</td>\n",
       "      <td>Private</td>\n",
       "      <td>Urban</td>\n",
       "      <td>2.706375</td>\n",
       "      <td>36.6</td>\n",
       "      <td>formerly smoked</td>\n",
       "    </tr>\n",
       "    <tr>\n",
       "      <th>1</th>\n",
       "      <td>Female</td>\n",
       "      <td>0.786070</td>\n",
       "      <td>0</td>\n",
       "      <td>0</td>\n",
       "      <td>Yes</td>\n",
       "      <td>Self-employed</td>\n",
       "      <td>Rural</td>\n",
       "      <td>2.121559</td>\n",
       "      <td>28.1</td>\n",
       "      <td>never smoked</td>\n",
       "    </tr>\n",
       "    <tr>\n",
       "      <th>2</th>\n",
       "      <td>Male</td>\n",
       "      <td>1.626390</td>\n",
       "      <td>0</td>\n",
       "      <td>1</td>\n",
       "      <td>Yes</td>\n",
       "      <td>Private</td>\n",
       "      <td>Rural</td>\n",
       "      <td>-0.005028</td>\n",
       "      <td>32.5</td>\n",
       "      <td>never smoked</td>\n",
       "    </tr>\n",
       "    <tr>\n",
       "      <th>3</th>\n",
       "      <td>Female</td>\n",
       "      <td>0.255342</td>\n",
       "      <td>0</td>\n",
       "      <td>0</td>\n",
       "      <td>Yes</td>\n",
       "      <td>Private</td>\n",
       "      <td>Urban</td>\n",
       "      <td>1.437358</td>\n",
       "      <td>34.4</td>\n",
       "      <td>smokes</td>\n",
       "    </tr>\n",
       "    <tr>\n",
       "      <th>4</th>\n",
       "      <td>Female</td>\n",
       "      <td>1.582163</td>\n",
       "      <td>1</td>\n",
       "      <td>0</td>\n",
       "      <td>Yes</td>\n",
       "      <td>Self-employed</td>\n",
       "      <td>Rural</td>\n",
       "      <td>1.501184</td>\n",
       "      <td>24.0</td>\n",
       "      <td>never smoked</td>\n",
       "    </tr>\n",
       "  </tbody>\n",
       "</table>\n",
       "</div>"
      ],
      "text/plain": [
       "   gender       age  hypertension  heart_disease ever_married      work_type  \\\n",
       "0    Male  1.051434             0              1          Yes        Private   \n",
       "1  Female  0.786070             0              0          Yes  Self-employed   \n",
       "2    Male  1.626390             0              1          Yes        Private   \n",
       "3  Female  0.255342             0              0          Yes        Private   \n",
       "4  Female  1.582163             1              0          Yes  Self-employed   \n",
       "\n",
       "  Residence_type  avg_glucose_level   bmi   smoking_status  \n",
       "0          Urban           2.706375  36.6  formerly smoked  \n",
       "1          Rural           2.121559  28.1     never smoked  \n",
       "2          Rural          -0.005028  32.5     never smoked  \n",
       "3          Urban           1.437358  34.4           smokes  \n",
       "4          Rural           1.501184  24.0     never smoked  "
      ]
     },
     "execution_count": 33,
     "metadata": {},
     "output_type": "execute_result"
    }
   ],
   "source": [
    "X1 = new_df.drop(axis = 1, columns= ['stroke'])\n",
    "X1.head()"
   ]
  },
  {
   "cell_type": "code",
   "execution_count": 34,
   "metadata": {},
   "outputs": [
    {
     "data": {
      "text/plain": [
       "array([['Male', 1.0514342842814732, 0, 1, 'Yes', 'Private', 'Urban',\n",
       "        2.7063754415827868, 36.6, 'formerly smoked'],\n",
       "       ['Female', 0.7860700726610688, 0, 0, 'Yes', 'Self-employed',\n",
       "        'Rural', 2.1215585391500795, 28.1, 'never smoked'],\n",
       "       ['Male', 1.6263900761256826, 0, 1, 'Yes', 'Private', 'Rural',\n",
       "        -0.005028301304808307, 32.5, 'never smoked'],\n",
       "       ['Female', 0.25534164942026, 0, 0, 'Yes', 'Private', 'Urban',\n",
       "        1.4373580996725381, 34.4, 'smokes'],\n",
       "       ['Female', 1.582162707522282, 1, 0, 'Yes', 'Self-employed',\n",
       "        'Rural', 1.5011844156857757, 24.0, 'never smoked'],\n",
       "       ['Male', 1.6706174447290834, 0, 0, 'Yes', 'Private', 'Urban',\n",
       "        1.7681948518795612, 29.0, 'formerly smoked'],\n",
       "       ['Male', 1.3610258645052782, 1, 1, 'Yes', 'Private', 'Rural',\n",
       "        -0.796342108486225, 27.4, 'never smoked'],\n",
       "       ['Female', 1.1398890214882746, 0, 0, 'No', 'Private', 'Urban',\n",
       "        -0.25967100844412555, 22.8, 'never smoked'],\n",
       "       ['Female', 0.6976153354542672, 0, 0, 'Yes', 'Private', 'Rural',\n",
       "        -0.6625056119325162, 28.1, 'Unknown'],\n",
       "       ['Female', 1.5379353389188812, 0, 0, 'Yes', 'Private', 'Urban',\n",
       "        -1.0507639633209982, 24.2, 'Unknown']], dtype=object)"
      ]
     },
     "execution_count": 34,
     "metadata": {},
     "output_type": "execute_result"
    }
   ],
   "source": [
    "X= X1.values\n",
    "X[0:10]"
   ]
  },
  {
   "cell_type": "markdown",
   "metadata": {},
   "source": [
    "### Transforming catgorical features into numerical ones"
   ]
  },
  {
   "cell_type": "code",
   "execution_count": 35,
   "metadata": {},
   "outputs": [],
   "source": [
    "from sklearn.preprocessing import LabelEncoder\n",
    "processor =  LabelEncoder()"
   ]
  },
  {
   "cell_type": "code",
   "execution_count": 40,
   "metadata": {},
   "outputs": [
    {
     "data": {
      "text/plain": [
       "array([[1, 1.0514342842814732, 0, 1, 1, 2, 1, 2.7063754415827868, 237, 1],\n",
       "       [0, 0.7860700726610688, 0, 0, 1, 3, 0, 2.1215585391500795, 152, 2],\n",
       "       [1, 1.6263900761256826, 0, 1, 1, 2, 0, -0.005028301304808307, 196,\n",
       "        2],\n",
       "       [0, 0.25534164942026, 0, 0, 1, 2, 1, 1.4373580996725381, 215, 3],\n",
       "       [0, 1.582162707522282, 1, 0, 1, 3, 0, 1.5011844156857757, 111, 2],\n",
       "       [1, 1.6706174447290834, 0, 0, 1, 2, 1, 1.7681948518795612, 161, 1],\n",
       "       [1, 1.3610258645052782, 1, 1, 1, 2, 0, -0.796342108486225, 145, 2],\n",
       "       [0, 1.1398890214882746, 0, 0, 0, 2, 1, -0.25967100844412555, 99,\n",
       "        2],\n",
       "       [0, 0.6976153354542672, 0, 0, 1, 2, 0, -0.6625056119325162, 152,\n",
       "        0],\n",
       "       [0, 1.5379353389188812, 0, 0, 1, 2, 1, -1.0507639633209982, 113,\n",
       "        0]], dtype=object)"
      ]
     },
     "execution_count": 40,
     "metadata": {},
     "output_type": "execute_result"
    }
   ],
   "source": [
    "X[:,0] = processor.fit_transform(X[:,0])\n",
    "X[:,4] = processor.fit_transform(X[:,4])\n",
    "X[:,5] = processor.fit_transform(X[:,5])\n",
    "X[:,6] = processor.fit_transform(X[:,6])\n",
    "X[:,9] = processor.fit_transform(X[:,9])\n",
    "\n",
    "X[0:10]"
   ]
  },
  {
   "cell_type": "code",
   "execution_count": 41,
   "metadata": {},
   "outputs": [
    {
     "data": {
      "text/plain": [
       "0    1\n",
       "1    1\n",
       "2    1\n",
       "3    1\n",
       "4    1\n",
       "5    1\n",
       "6    1\n",
       "7    1\n",
       "8    1\n",
       "9    1\n",
       "Name: stroke, dtype: object"
      ]
     },
     "execution_count": 41,
     "metadata": {},
     "output_type": "execute_result"
    }
   ],
   "source": [
    "y = new_df.stroke\n",
    "y[0:10]"
   ]
  },
  {
   "cell_type": "markdown",
   "metadata": {},
   "source": [
    "# Test/Train and Model (simple one)"
   ]
  },
  {
   "cell_type": "code",
   "execution_count": 42,
   "metadata": {},
   "outputs": [
    {
     "data": {
      "text/plain": [
       "((3546, 10), (1521, 10), (1521,), (3546,))"
      ]
     },
     "execution_count": 42,
     "metadata": {},
     "output_type": "execute_result"
    }
   ],
   "source": [
    "from sklearn.model_selection import train_test_split\n",
    "\n",
    "X_trainset, X_testset, y_trainset, y_testset=train_test_split(X, y, test_size=0.3)\n",
    "\n",
    "X_trainset.shape, X_testset.shape, y_testset.shape, y_trainset.shape"
   ]
  },
  {
   "cell_type": "code",
   "execution_count": 43,
   "metadata": {},
   "outputs": [
    {
     "data": {
      "text/plain": [
       "DecisionTreeClassifier(criterion='entropy')"
      ]
     },
     "execution_count": 43,
     "metadata": {},
     "output_type": "execute_result"
    }
   ],
   "source": [
    "model = DecisionTreeClassifier(criterion='entropy')\n",
    "model.fit(X_trainset, y_trainset)"
   ]
  },
  {
   "cell_type": "code",
   "execution_count": 44,
   "metadata": {},
   "outputs": [
    {
     "name": "stdout",
     "output_type": "stream",
     "text": [
      "Test set score: 0.8967784352399737\n"
     ]
    }
   ],
   "source": [
    "print('Test set score: {}'.format(model.score(X_testset, y_testset)))"
   ]
  },
  {
   "cell_type": "code",
   "execution_count": 45,
   "metadata": {},
   "outputs": [
    {
     "name": "stdout",
     "output_type": "stream",
     "text": [
      "Accuracy:  0.8967784352399737\n"
     ]
    }
   ],
   "source": [
    "prediction = model.predict(X_testset)\n",
    "from sklearn import metrics\n",
    "res = metrics.accuracy_score(y_testset, prediction)\n",
    "print('Accuracy: ', res)"
   ]
  },
  {
   "cell_type": "markdown",
   "metadata": {},
   "source": [
    "# Stratified Crossvalidation "
   ]
  },
  {
   "cell_type": "code",
   "execution_count": 46,
   "metadata": {},
   "outputs": [
    {
     "name": "stdout",
     "output_type": "stream",
     "text": [
      "0.9480969688456563\n"
     ]
    }
   ],
   "source": [
    "from sklearn.model_selection import StratifiedKFold\n",
    "from sklearn.model_selection import cross_val_score\n",
    "\n",
    "skfold = StratifiedKFold(n_splits=15, shuffle=True)\n",
    "model = DecisionTreeClassifier(criterion='entropy', max_depth= 5)\n",
    "scores = cross_val_score(model, X, y, cv= skfold)\n",
    "print(np.mean(scores))"
   ]
  },
  {
   "cell_type": "code",
   "execution_count": 47,
   "metadata": {},
   "outputs": [
    {
     "data": {
      "text/plain": [
       "DecisionTreeClassifier(criterion='entropy', max_depth=5)"
      ]
     },
     "execution_count": 47,
     "metadata": {},
     "output_type": "execute_result"
    }
   ],
   "source": [
    "model.fit(X_trainset, y_trainset)"
   ]
  },
  {
   "cell_type": "markdown",
   "metadata": {},
   "source": [
    "# Plotting the tree "
   ]
  },
  {
   "cell_type": "code",
   "execution_count": 49,
   "metadata": {},
   "outputs": [
    {
     "data": {
      "text/plain": [
       "[Text(0.434375, 0.9166666666666666, 'X[1] <= 0.543\\nentropy = 0.279\\nsamples = 3546\\nvalue = [3375, 171]'),\n",
       " Text(0.18125, 0.75, 'X[1] <= -0.253\\nentropy = 0.1\\nsamples = 2384\\nvalue = [2353, 31]'),\n",
       " Text(0.1, 0.5833333333333334, 'X[7] <= -0.662\\nentropy = 0.022\\nsamples = 1420\\nvalue = [1417, 3]'),\n",
       " Text(0.075, 0.4166666666666667, 'X[7] <= -0.663\\nentropy = 0.067\\nsamples = 379\\nvalue = [376, 3]'),\n",
       " Text(0.05, 0.25, 'X[1] <= -1.85\\nentropy = 0.048\\nsamples = 378\\nvalue = [376, 2]'),\n",
       " Text(0.025, 0.08333333333333333, 'entropy = 0.722\\nsamples = 5\\nvalue = [4, 1]'),\n",
       " Text(0.075, 0.08333333333333333, 'entropy = 0.027\\nsamples = 373\\nvalue = [372, 1]'),\n",
       " Text(0.1, 0.25, 'entropy = 0.0\\nsamples = 1\\nvalue = [0, 1]'),\n",
       " Text(0.125, 0.4166666666666667, 'entropy = 0.0\\nsamples = 1041\\nvalue = [1041, 0]'),\n",
       " Text(0.2625, 0.5833333333333334, 'X[2] <= 0.5\\nentropy = 0.19\\nsamples = 964\\nvalue = [936, 28]'),\n",
       " Text(0.2, 0.4166666666666667, 'X[8] <= 124.5\\nentropy = 0.159\\nsamples = 862\\nvalue = [842, 20]'),\n",
       " Text(0.15, 0.25, 'X[8] <= 76.5\\nentropy = 0.048\\nsamples = 185\\nvalue = [184, 1]'),\n",
       " Text(0.125, 0.08333333333333333, 'entropy = 0.258\\nsamples = 23\\nvalue = [22, 1]'),\n",
       " Text(0.175, 0.08333333333333333, 'entropy = 0.0\\nsamples = 162\\nvalue = [162, 0]'),\n",
       " Text(0.25, 0.25, 'X[8] <= 179.5\\nentropy = 0.185\\nsamples = 677\\nvalue = [658, 19]'),\n",
       " Text(0.225, 0.08333333333333333, 'entropy = 0.25\\nsamples = 311\\nvalue = [298, 13]'),\n",
       " Text(0.275, 0.08333333333333333, 'entropy = 0.121\\nsamples = 366\\nvalue = [360, 6]'),\n",
       " Text(0.325, 0.4166666666666667, 'X[8] <= 153.5\\nentropy = 0.397\\nsamples = 102\\nvalue = [94, 8]'),\n",
       " Text(0.3, 0.25, 'entropy = 0.0\\nsamples = 29\\nvalue = [29, 0]'),\n",
       " Text(0.35, 0.25, 'X[0] <= 0.5\\nentropy = 0.499\\nsamples = 73\\nvalue = [65, 8]'),\n",
       " Text(0.325, 0.08333333333333333, 'entropy = 0.722\\nsamples = 35\\nvalue = [28, 7]'),\n",
       " Text(0.375, 0.08333333333333333, 'entropy = 0.176\\nsamples = 38\\nvalue = [37, 1]'),\n",
       " Text(0.6875, 0.75, 'X[1] <= 1.427\\nentropy = 0.531\\nsamples = 1162\\nvalue = [1022, 140]'),\n",
       " Text(0.5125, 0.5833333333333334, 'X[7] <= 1.202\\nentropy = 0.42\\nsamples = 845\\nvalue = [773, 72]'),\n",
       " Text(0.425, 0.4166666666666667, 'X[8] <= 109.5\\nentropy = 0.303\\nsamples = 631\\nvalue = [597, 34]'),\n",
       " Text(0.4, 0.25, 'entropy = 0.0\\nsamples = 67\\nvalue = [67, 0]'),\n",
       " Text(0.45, 0.25, 'X[8] <= 152.5\\nentropy = 0.329\\nsamples = 564\\nvalue = [530, 34]'),\n",
       " Text(0.425, 0.08333333333333333, 'entropy = 0.498\\nsamples = 183\\nvalue = [163, 20]'),\n",
       " Text(0.475, 0.08333333333333333, 'entropy = 0.227\\nsamples = 381\\nvalue = [367, 14]'),\n",
       " Text(0.6, 0.4166666666666667, 'X[7] <= 2.564\\nentropy = 0.675\\nsamples = 214\\nvalue = [176, 38]'),\n",
       " Text(0.55, 0.25, 'X[7] <= 2.548\\nentropy = 0.749\\nsamples = 145\\nvalue = [114, 31]'),\n",
       " Text(0.525, 0.08333333333333333, 'entropy = 0.716\\nsamples = 142\\nvalue = [114, 28]'),\n",
       " Text(0.575, 0.08333333333333333, 'entropy = 0.0\\nsamples = 3\\nvalue = [0, 3]'),\n",
       " Text(0.65, 0.25, 'X[7] <= 2.818\\nentropy = 0.474\\nsamples = 69\\nvalue = [62, 7]'),\n",
       " Text(0.625, 0.08333333333333333, 'entropy = 0.0\\nsamples = 32\\nvalue = [32, 0]'),\n",
       " Text(0.675, 0.08333333333333333, 'entropy = 0.7\\nsamples = 37\\nvalue = [30, 7]'),\n",
       " Text(0.8625, 0.5833333333333334, 'X[8] <= 204.0\\nentropy = 0.75\\nsamples = 317\\nvalue = [249, 68]'),\n",
       " Text(0.8, 0.4166666666666667, 'X[7] <= -0.055\\nentropy = 0.801\\nsamples = 263\\nvalue = [199, 64]'),\n",
       " Text(0.75, 0.25, 'X[7] <= -0.175\\nentropy = 0.684\\nsamples = 154\\nvalue = [126, 28]'),\n",
       " Text(0.725, 0.08333333333333333, 'entropy = 0.731\\nsamples = 137\\nvalue = [109, 28]'),\n",
       " Text(0.775, 0.08333333333333333, 'entropy = 0.0\\nsamples = 17\\nvalue = [17, 0]'),\n",
       " Text(0.85, 0.25, 'X[7] <= -0.005\\nentropy = 0.915\\nsamples = 109\\nvalue = [73, 36]'),\n",
       " Text(0.825, 0.08333333333333333, 'entropy = 0.863\\nsamples = 7\\nvalue = [2, 5]'),\n",
       " Text(0.875, 0.08333333333333333, 'entropy = 0.886\\nsamples = 102\\nvalue = [71, 31]'),\n",
       " Text(0.925, 0.4166666666666667, 'X[9] <= 1.5\\nentropy = 0.381\\nsamples = 54\\nvalue = [50, 4]'),\n",
       " Text(0.9, 0.25, 'entropy = 0.0\\nsamples = 26\\nvalue = [26, 0]'),\n",
       " Text(0.95, 0.25, 'X[4] <= 0.5\\nentropy = 0.592\\nsamples = 28\\nvalue = [24, 4]'),\n",
       " Text(0.925, 0.08333333333333333, 'entropy = 0.918\\nsamples = 3\\nvalue = [1, 2]'),\n",
       " Text(0.975, 0.08333333333333333, 'entropy = 0.402\\nsamples = 25\\nvalue = [23, 2]')]"
      ]
     },
     "execution_count": 49,
     "metadata": {},
     "output_type": "execute_result"
    },
    {
     "data": {
      "image/png": "[encoded data removed]",
      "text/plain": [
       "<Figure size 864x576 with 1 Axes>"
      ]
     },
     "metadata": {
      "needs_background": "light"
     },
     "output_type": "display_data"
    }
   ],
   "source": [
    "\n",
    "# plt.figure(figsize=(12,8))\n",
    "\n",
    "# tree.plot_tree(model.fit(X_trainset, y_trainset)) "
   ]
  },
  {
   "cell_type": "code",
   "execution_count": 51,
   "metadata": {},
   "outputs": [
    {
     "data": {
      "image/svg+xml": "<?xml version=\"1.0\" encoding=\"UTF-8\" standalone=\"no\"?>\n<!DOCTYPE svg PUBLIC \"-//W3C//DTD SVG 1.1//EN\"\n \"http://www.w3.org/Graphics/SVG/1.1/DTD/svg11.dtd\">\n<!-- Generated by graphviz version 3.0.0 (20220226.1711)\n -->\n<!-- Title: Tree Pages: 1 -->\n<svg width=\"2690pt\" height=\"671pt\"\n viewBox=\"0.00 0.00 2690.00 671.00\" xmlns=\"http://www.w3.org/2000/svg\" xmlns:xlink=\"http://www.w3.org/1999/xlink\">\n<g id=\"graph0\" class=\"graph\" transform=\"scale(1 1) rotate(0) translate(4 667)\">\n<title>Tree</title>\n<polygon fill=\"white\" stroke=\"transparent\" points=\"-4,4 -4,-667 2686,-667 2686,4 -4,4\"/>\n<!-- 0 -->\n<g id=\"node1\" class=\"node\">\n<title>0</title>\n<path fill=\"#e68743\" stroke=\"black\" d=\"M1025,-663C1025,-663 911,-663 911,-663 905,-663 899,-657 899,-651 899,-651 899,-592 899,-592 899,-586 905,-580 911,-580 911,-580 1025,-580 1025,-580 1031,-580 1037,-586 1037,-592 1037,-592 1037,-651 1037,-651 1037,-657 1031,-663 1025,-663\"/>\n<text text-anchor=\"middle\" x=\"968\" y=\"-647.8\" font-family=\"Helvetica,sans-Serif\" font-size=\"14.00\">age &lt;= 0.543</text>\n<text text-anchor=\"middle\" x=\"968\" y=\"-632.8\" font-family=\"Helvetica,sans-Serif\" font-size=\"14.00\">entropy = 0.279</text>\n<text text-anchor=\"middle\" x=\"968\" y=\"-617.8\" font-family=\"Helvetica,sans-Serif\" font-size=\"14.00\">samples = 3546</text>\n<text text-anchor=\"middle\" x=\"968\" y=\"-602.8\" font-family=\"Helvetica,sans-Serif\" font-size=\"14.00\">value = [3375, 171]</text>\n<text text-anchor=\"middle\" x=\"968\" y=\"-587.8\" font-family=\"Helvetica,sans-Serif\" font-size=\"14.00\">class = 0</text>\n</g>\n<!-- 1 -->\n<g id=\"node2\" class=\"node\">\n<title>1</title>\n<path fill=\"#e5833c\" stroke=\"black\" d=\"M770,-544C770,-544 664,-544 664,-544 658,-544 652,-538 652,-532 652,-532 652,-473 652,-473 652,-467 658,-461 664,-461 664,-461 770,-461 770,-461 776,-461 782,-467 782,-473 782,-473 782,-532 782,-532 782,-538 776,-544 770,-544\"/>\n<text text-anchor=\"middle\" x=\"717\" y=\"-528.8\" font-family=\"Helvetica,sans-Serif\" font-size=\"14.00\">age &lt;= &#45;0.253</text>\n<text text-anchor=\"middle\" x=\"717\" y=\"-513.8\" font-family=\"Helvetica,sans-Serif\" font-size=\"14.00\">entropy = 0.1</text>\n<text text-anchor=\"middle\" x=\"717\" y=\"-498.8\" font-family=\"Helvetica,sans-Serif\" font-size=\"14.00\">samples = 2384</text>\n<text text-anchor=\"middle\" x=\"717\" y=\"-483.8\" font-family=\"Helvetica,sans-Serif\" font-size=\"14.00\">value = [2353, 31]</text>\n<text text-anchor=\"middle\" x=\"717\" y=\"-468.8\" font-family=\"Helvetica,sans-Serif\" font-size=\"14.00\">class = 0</text>\n</g>\n<!-- 0&#45;&gt;1 -->\n<g id=\"edge1\" class=\"edge\">\n<title>0&#45;&gt;1</title>\n<path fill=\"none\" stroke=\"black\" d=\"M898.75,-588.22C865.46,-572.7 825.51,-554.08 791.55,-538.25\"/>\n<polygon fill=\"black\" stroke=\"black\" points=\"792.69,-534.92 782.14,-533.87 789.73,-541.26 792.69,-534.92\"/>\n<text text-anchor=\"middle\" x=\"790.7\" y=\"-553.66\" font-family=\"Helvetica,sans-Serif\" font-size=\"14.00\">True</text>\n</g>\n<!-- 22 -->\n<g id=\"node23\" class=\"node\">\n<title>22</title>\n<path fill=\"#e99254\" stroke=\"black\" d=\"M1438,-544C1438,-544 1324,-544 1324,-544 1318,-544 1312,-538 1312,-532 1312,-532 1312,-473 1312,-473 1312,-467 1318,-461 1324,-461 1324,-461 1438,-461 1438,-461 1444,-461 1450,-467 1450,-473 1450,-473 1450,-532 1450,-532 1450,-538 1444,-544 1438,-544\"/>\n<text text-anchor=\"middle\" x=\"1381\" y=\"-528.8\" font-family=\"Helvetica,sans-Serif\" font-size=\"14.00\">age &lt;= 1.427</text>\n<text text-anchor=\"middle\" x=\"1381\" y=\"-513.8\" font-family=\"Helvetica,sans-Serif\" font-size=\"14.00\">entropy = 0.531</text>\n<text text-anchor=\"middle\" x=\"1381\" y=\"-498.8\" font-family=\"Helvetica,sans-Serif\" font-size=\"14.00\">samples = 1162</text>\n<text text-anchor=\"middle\" x=\"1381\" y=\"-483.8\" font-family=\"Helvetica,sans-Serif\" font-size=\"14.00\">value = [1022, 140]</text>\n<text text-anchor=\"middle\" x=\"1381\" y=\"-468.8\" font-family=\"Helvetica,sans-Serif\" font-size=\"14.00\">class = 0</text>\n</g>\n<!-- 0&#45;&gt;22 -->\n<g id=\"edge22\" class=\"edge\">\n<title>0&#45;&gt;22</title>\n<path fill=\"none\" stroke=\"black\" d=\"M1037.13,-600.92C1110.2,-580.22 1225.27,-547.62 1301.91,-525.91\"/>\n<polygon fill=\"black\" stroke=\"black\" points=\"1303.32,-529.14 1311.99,-523.05 1301.42,-522.41 1303.32,-529.14\"/>\n<text text-anchor=\"middle\" x=\"1299.8\" y=\"-541.18\" font-family=\"Helvetica,sans-Serif\" font-size=\"14.00\">False</text>\n</g>\n<!-- 2 -->\n<g id=\"node3\" class=\"node\">\n<title>2</title>\n<path fill=\"#e58139\" stroke=\"black\" d=\"M572,-425C572,-425 396,-425 396,-425 390,-425 384,-419 384,-413 384,-413 384,-354 384,-354 384,-348 390,-342 396,-342 396,-342 572,-342 572,-342 578,-342 584,-348 584,-354 584,-354 584,-413 584,-413 584,-419 578,-425 572,-425\"/>\n<text text-anchor=\"middle\" x=\"484\" y=\"-409.8\" font-family=\"Helvetica,sans-Serif\" font-size=\"14.00\">avg_glucose_level &lt;= &#45;0.662</text>\n<text text-anchor=\"middle\" x=\"484\" y=\"-394.8\" font-family=\"Helvetica,sans-Serif\" font-size=\"14.00\">entropy = 0.022</text>\n<text text-anchor=\"middle\" x=\"484\" y=\"-379.8\" font-family=\"Helvetica,sans-Serif\" font-size=\"14.00\">samples = 1420</text>\n<text text-anchor=\"middle\" x=\"484\" y=\"-364.8\" font-family=\"Helvetica,sans-Serif\" font-size=\"14.00\">value = [1417, 3]</text>\n<text text-anchor=\"middle\" x=\"484\" y=\"-349.8\" font-family=\"Helvetica,sans-Serif\" font-size=\"14.00\">class = 0</text>\n</g>\n<!-- 1&#45;&gt;2 -->\n<g id=\"edge2\" class=\"edge\">\n<title>1&#45;&gt;2</title>\n<path fill=\"none\" stroke=\"black\" d=\"M651.79,-468.75C627.7,-456.66 599.96,-442.73 574.06,-429.72\"/>\n<polygon fill=\"black\" stroke=\"black\" points=\"575.49,-426.53 564.99,-425.17 572.35,-432.78 575.49,-426.53\"/>\n</g>\n<!-- 9 -->\n<g id=\"node10\" class=\"node\">\n<title>9</title>\n<path fill=\"#e6853f\" stroke=\"black\" d=\"M776,-425C776,-425 658,-425 658,-425 652,-425 646,-419 646,-413 646,-413 646,-354 646,-354 646,-348 652,-342 658,-342 658,-342 776,-342 776,-342 782,-342 788,-348 788,-354 788,-354 788,-413 788,-413 788,-419 782,-425 776,-425\"/>\n<text text-anchor=\"middle\" x=\"717\" y=\"-409.8\" font-family=\"Helvetica,sans-Serif\" font-size=\"14.00\">hypertension &lt;= 0.5</text>\n<text text-anchor=\"middle\" x=\"717\" y=\"-394.8\" font-family=\"Helvetica,sans-Serif\" font-size=\"14.00\">entropy = 0.19</text>\n<text text-anchor=\"middle\" x=\"717\" y=\"-379.8\" font-family=\"Helvetica,sans-Serif\" font-size=\"14.00\">samples = 964</text>\n<text text-anchor=\"middle\" x=\"717\" y=\"-364.8\" font-family=\"Helvetica,sans-Serif\" font-size=\"14.00\">value = [936, 28]</text>\n<text text-anchor=\"middle\" x=\"717\" y=\"-349.8\" font-family=\"Helvetica,sans-Serif\" font-size=\"14.00\">class = 0</text>\n</g>\n<!-- 1&#45;&gt;9 -->\n<g id=\"edge9\" class=\"edge\">\n<title>1&#45;&gt;9</title>\n<path fill=\"none\" stroke=\"black\" d=\"M717,-460.91C717,-452.65 717,-443.86 717,-435.3\"/>\n<polygon fill=\"black\" stroke=\"black\" points=\"720.5,-435.02 717,-425.02 713.5,-435.02 720.5,-435.02\"/>\n</g>\n<!-- 3 -->\n<g id=\"node4\" class=\"node\">\n<title>3</title>\n<path fill=\"#e5823b\" stroke=\"black\" d=\"M393,-306C393,-306 217,-306 217,-306 211,-306 205,-300 205,-294 205,-294 205,-235 205,-235 205,-229 211,-223 217,-223 217,-223 393,-223 393,-223 399,-223 405,-229 405,-235 405,-235 405,-294 405,-294 405,-300 399,-306 393,-306\"/>\n<text text-anchor=\"middle\" x=\"305\" y=\"-290.8\" font-family=\"Helvetica,sans-Serif\" font-size=\"14.00\">avg_glucose_level &lt;= &#45;0.663</text>\n<text text-anchor=\"middle\" x=\"305\" y=\"-275.8\" font-family=\"Helvetica,sans-Serif\" font-size=\"14.00\">entropy = 0.067</text>\n<text text-anchor=\"middle\" x=\"305\" y=\"-260.8\" font-family=\"Helvetica,sans-Serif\" font-size=\"14.00\">samples = 379</text>\n<text text-anchor=\"middle\" x=\"305\" y=\"-245.8\" font-family=\"Helvetica,sans-Serif\" font-size=\"14.00\">value = [376, 3]</text>\n<text text-anchor=\"middle\" x=\"305\" y=\"-230.8\" font-family=\"Helvetica,sans-Serif\" font-size=\"14.00\">class = 0</text>\n</g>\n<!-- 2&#45;&gt;3 -->\n<g id=\"edge3\" class=\"edge\">\n<title>2&#45;&gt;3</title>\n<path fill=\"none\" stroke=\"black\" d=\"M421.9,-341.91C406.9,-332.11 390.77,-321.56 375.43,-311.53\"/>\n<polygon fill=\"black\" stroke=\"black\" points=\"377.28,-308.56 366.99,-306.02 373.45,-314.42 377.28,-308.56\"/>\n</g>\n<!-- 8 -->\n<g id=\"node9\" class=\"node\">\n<title>8</title>\n<path fill=\"#e58139\" stroke=\"black\" d=\"M533,-298.5C533,-298.5 435,-298.5 435,-298.5 429,-298.5 423,-292.5 423,-286.5 423,-286.5 423,-242.5 423,-242.5 423,-236.5 429,-230.5 435,-230.5 435,-230.5 533,-230.5 533,-230.5 539,-230.5 545,-236.5 545,-242.5 545,-242.5 545,-286.5 545,-286.5 545,-292.5 539,-298.5 533,-298.5\"/>\n<text text-anchor=\"middle\" x=\"484\" y=\"-283.3\" font-family=\"Helvetica,sans-Serif\" font-size=\"14.00\">entropy = 0.0</text>\n<text text-anchor=\"middle\" x=\"484\" y=\"-268.3\" font-family=\"Helvetica,sans-Serif\" font-size=\"14.00\">samples = 1041</text>\n<text text-anchor=\"middle\" x=\"484\" y=\"-253.3\" font-family=\"Helvetica,sans-Serif\" font-size=\"14.00\">value = [1041, 0]</text>\n<text text-anchor=\"middle\" x=\"484\" y=\"-238.3\" font-family=\"Helvetica,sans-Serif\" font-size=\"14.00\">class = 0</text>\n</g>\n<!-- 2&#45;&gt;8 -->\n<g id=\"edge8\" class=\"edge\">\n<title>2&#45;&gt;8</title>\n<path fill=\"none\" stroke=\"black\" d=\"M484,-341.91C484,-331.2 484,-319.62 484,-308.78\"/>\n<polygon fill=\"black\" stroke=\"black\" points=\"487.5,-308.67 484,-298.67 480.5,-308.67 487.5,-308.67\"/>\n</g>\n<!-- 4 -->\n<g id=\"node5\" class=\"node\">\n<title>4</title>\n<path fill=\"#e5823a\" stroke=\"black\" d=\"M230,-187C230,-187 138,-187 138,-187 132,-187 126,-181 126,-175 126,-175 126,-116 126,-116 126,-110 132,-104 138,-104 138,-104 230,-104 230,-104 236,-104 242,-110 242,-116 242,-116 242,-175 242,-175 242,-181 236,-187 230,-187\"/>\n<text text-anchor=\"middle\" x=\"184\" y=\"-171.8\" font-family=\"Helvetica,sans-Serif\" font-size=\"14.00\">age &lt;= &#45;1.85</text>\n<text text-anchor=\"middle\" x=\"184\" y=\"-156.8\" font-family=\"Helvetica,sans-Serif\" font-size=\"14.00\">entropy = 0.048</text>\n<text text-anchor=\"middle\" x=\"184\" y=\"-141.8\" font-family=\"Helvetica,sans-Serif\" font-size=\"14.00\">samples = 378</text>\n<text text-anchor=\"middle\" x=\"184\" y=\"-126.8\" font-family=\"Helvetica,sans-Serif\" font-size=\"14.00\">value = [376, 2]</text>\n<text text-anchor=\"middle\" x=\"184\" y=\"-111.8\" font-family=\"Helvetica,sans-Serif\" font-size=\"14.00\">class = 0</text>\n</g>\n<!-- 3&#45;&gt;4 -->\n<g id=\"edge4\" class=\"edge\">\n<title>3&#45;&gt;4</title>\n<path fill=\"none\" stroke=\"black\" d=\"M263.02,-222.91C253.45,-213.65 243.19,-203.73 233.34,-194.21\"/>\n<polygon fill=\"black\" stroke=\"black\" points=\"235.53,-191.46 225.91,-187.02 230.66,-196.49 235.53,-191.46\"/>\n</g>\n<!-- 7 -->\n<g id=\"node8\" class=\"node\">\n<title>7</title>\n<path fill=\"#399de5\" stroke=\"black\" d=\"M348,-179.5C348,-179.5 272,-179.5 272,-179.5 266,-179.5 260,-173.5 260,-167.5 260,-167.5 260,-123.5 260,-123.5 260,-117.5 266,-111.5 272,-111.5 272,-111.5 348,-111.5 348,-111.5 354,-111.5 360,-117.5 360,-123.5 360,-123.5 360,-167.5 360,-167.5 360,-173.5 354,-179.5 348,-179.5\"/>\n<text text-anchor=\"middle\" x=\"310\" y=\"-164.3\" font-family=\"Helvetica,sans-Serif\" font-size=\"14.00\">entropy = 0.0</text>\n<text text-anchor=\"middle\" x=\"310\" y=\"-149.3\" font-family=\"Helvetica,sans-Serif\" font-size=\"14.00\">samples = 1</text>\n<text text-anchor=\"middle\" x=\"310\" y=\"-134.3\" font-family=\"Helvetica,sans-Serif\" font-size=\"14.00\">value = [0, 1]</text>\n<text text-anchor=\"middle\" x=\"310\" y=\"-119.3\" font-family=\"Helvetica,sans-Serif\" font-size=\"14.00\">class = 1</text>\n</g>\n<!-- 3&#45;&gt;7 -->\n<g id=\"edge7\" class=\"edge\">\n<title>3&#45;&gt;7</title>\n<path fill=\"none\" stroke=\"black\" d=\"M306.73,-222.91C307.19,-212.2 307.69,-200.62 308.15,-189.78\"/>\n<polygon fill=\"black\" stroke=\"black\" points=\"311.65,-189.81 308.58,-179.67 304.66,-189.51 311.65,-189.81\"/>\n</g>\n<!-- 5 -->\n<g id=\"node6\" class=\"node\">\n<title>5</title>\n<path fill=\"#eca06a\" stroke=\"black\" d=\"M104,-68C104,-68 12,-68 12,-68 6,-68 0,-62 0,-56 0,-56 0,-12 0,-12 0,-6 6,0 12,0 12,0 104,0 104,0 110,0 116,-6 116,-12 116,-12 116,-56 116,-56 116,-62 110,-68 104,-68\"/>\n<text text-anchor=\"middle\" x=\"58\" y=\"-52.8\" font-family=\"Helvetica,sans-Serif\" font-size=\"14.00\">entropy = 0.722</text>\n<text text-anchor=\"middle\" x=\"58\" y=\"-37.8\" font-family=\"Helvetica,sans-Serif\" font-size=\"14.00\">samples = 5</text>\n<text text-anchor=\"middle\" x=\"58\" y=\"-22.8\" font-family=\"Helvetica,sans-Serif\" font-size=\"14.00\">value = [4, 1]</text>\n<text text-anchor=\"middle\" x=\"58\" y=\"-7.8\" font-family=\"Helvetica,sans-Serif\" font-size=\"14.00\">class = 0</text>\n</g>\n<!-- 4&#45;&gt;5 -->\n<g id=\"edge5\" class=\"edge\">\n<title>4&#45;&gt;5</title>\n<path fill=\"none\" stroke=\"black\" d=\"M137.08,-103.73C126.27,-94.33 114.79,-84.35 104.01,-74.99\"/>\n<polygon fill=\"black\" stroke=\"black\" points=\"106.16,-72.22 96.32,-68.3 101.57,-77.5 106.16,-72.22\"/>\n</g>\n<!-- 6 -->\n<g id=\"node7\" class=\"node\">\n<title>6</title>\n<path fill=\"#e5813a\" stroke=\"black\" d=\"M238,-68C238,-68 146,-68 146,-68 140,-68 134,-62 134,-56 134,-56 134,-12 134,-12 134,-6 140,0 146,0 146,0 238,0 238,0 244,0 250,-6 250,-12 250,-12 250,-56 250,-56 250,-62 244,-68 238,-68\"/>\n<text text-anchor=\"middle\" x=\"192\" y=\"-52.8\" font-family=\"Helvetica,sans-Serif\" font-size=\"14.00\">entropy = 0.027</text>\n<text text-anchor=\"middle\" x=\"192\" y=\"-37.8\" font-family=\"Helvetica,sans-Serif\" font-size=\"14.00\">samples = 373</text>\n<text text-anchor=\"middle\" x=\"192\" y=\"-22.8\" font-family=\"Helvetica,sans-Serif\" font-size=\"14.00\">value = [372, 1]</text>\n<text text-anchor=\"middle\" x=\"192\" y=\"-7.8\" font-family=\"Helvetica,sans-Serif\" font-size=\"14.00\">class = 0</text>\n</g>\n<!-- 4&#45;&gt;6 -->\n<g id=\"edge6\" class=\"edge\">\n<title>4&#45;&gt;6</title>\n<path fill=\"none\" stroke=\"black\" d=\"M186.98,-103.73C187.59,-95.43 188.23,-86.67 188.84,-78.28\"/>\n<polygon fill=\"black\" stroke=\"black\" points=\"192.33,-78.53 189.57,-68.3 185.35,-78.02 192.33,-78.53\"/>\n</g>\n<!-- 10 -->\n<g id=\"node11\" class=\"node\">\n<title>10</title>\n<path fill=\"#e6843e\" stroke=\"black\" d=\"M673,-306C673,-306 575,-306 575,-306 569,-306 563,-300 563,-294 563,-294 563,-235 563,-235 563,-229 569,-223 575,-223 575,-223 673,-223 673,-223 679,-223 685,-229 685,-235 685,-235 685,-294 685,-294 685,-300 679,-306 673,-306\"/>\n<text text-anchor=\"middle\" x=\"624\" y=\"-290.8\" font-family=\"Helvetica,sans-Serif\" font-size=\"14.00\">bmi &lt;= 124.5</text>\n<text text-anchor=\"middle\" x=\"624\" y=\"-275.8\" font-family=\"Helvetica,sans-Serif\" font-size=\"14.00\">entropy = 0.159</text>\n<text text-anchor=\"middle\" x=\"624\" y=\"-260.8\" font-family=\"Helvetica,sans-Serif\" font-size=\"14.00\">samples = 862</text>\n<text text-anchor=\"middle\" x=\"624\" y=\"-245.8\" font-family=\"Helvetica,sans-Serif\" font-size=\"14.00\">value = [842, 20]</text>\n<text text-anchor=\"middle\" x=\"624\" y=\"-230.8\" font-family=\"Helvetica,sans-Serif\" font-size=\"14.00\">class = 0</text>\n</g>\n<!-- 9&#45;&gt;10 -->\n<g id=\"edge10\" class=\"edge\">\n<title>9&#45;&gt;10</title>\n<path fill=\"none\" stroke=\"black\" d=\"M684.73,-341.91C677.59,-332.92 669.96,-323.32 662.59,-314.05\"/>\n<polygon fill=\"black\" stroke=\"black\" points=\"665.17,-311.67 656.21,-306.02 659.69,-316.03 665.17,-311.67\"/>\n</g>\n<!-- 17 -->\n<g id=\"node18\" class=\"node\">\n<title>17</title>\n<path fill=\"#e78c4a\" stroke=\"black\" d=\"M807,-306C807,-306 715,-306 715,-306 709,-306 703,-300 703,-294 703,-294 703,-235 703,-235 703,-229 709,-223 715,-223 715,-223 807,-223 807,-223 813,-223 819,-229 819,-235 819,-235 819,-294 819,-294 819,-300 813,-306 807,-306\"/>\n<text text-anchor=\"middle\" x=\"761\" y=\"-290.8\" font-family=\"Helvetica,sans-Serif\" font-size=\"14.00\">bmi &lt;= 153.5</text>\n<text text-anchor=\"middle\" x=\"761\" y=\"-275.8\" font-family=\"Helvetica,sans-Serif\" font-size=\"14.00\">entropy = 0.397</text>\n<text text-anchor=\"middle\" x=\"761\" y=\"-260.8\" font-family=\"Helvetica,sans-Serif\" font-size=\"14.00\">samples = 102</text>\n<text text-anchor=\"middle\" x=\"761\" y=\"-245.8\" font-family=\"Helvetica,sans-Serif\" font-size=\"14.00\">value = [94, 8]</text>\n<text text-anchor=\"middle\" x=\"761\" y=\"-230.8\" font-family=\"Helvetica,sans-Serif\" font-size=\"14.00\">class = 0</text>\n</g>\n<!-- 9&#45;&gt;17 -->\n<g id=\"edge17\" class=\"edge\">\n<title>9&#45;&gt;17</title>\n<path fill=\"none\" stroke=\"black\" d=\"M732.27,-341.91C735.47,-333.38 738.89,-324.28 742.21,-315.46\"/>\n<polygon fill=\"black\" stroke=\"black\" points=\"745.52,-316.61 745.76,-306.02 738.97,-314.15 745.52,-316.61\"/>\n</g>\n<!-- 11 -->\n<g id=\"node12\" class=\"node\">\n<title>11</title>\n<path fill=\"#e5823a\" stroke=\"black\" d=\"M521,-187C521,-187 429,-187 429,-187 423,-187 417,-181 417,-175 417,-175 417,-116 417,-116 417,-110 423,-104 429,-104 429,-104 521,-104 521,-104 527,-104 533,-110 533,-116 533,-116 533,-175 533,-175 533,-181 527,-187 521,-187\"/>\n<text text-anchor=\"middle\" x=\"475\" y=\"-171.8\" font-family=\"Helvetica,sans-Serif\" font-size=\"14.00\">bmi &lt;= 76.5</text>\n<text text-anchor=\"middle\" x=\"475\" y=\"-156.8\" font-family=\"Helvetica,sans-Serif\" font-size=\"14.00\">entropy = 0.048</text>\n<text text-anchor=\"middle\" x=\"475\" y=\"-141.8\" font-family=\"Helvetica,sans-Serif\" font-size=\"14.00\">samples = 185</text>\n<text text-anchor=\"middle\" x=\"475\" y=\"-126.8\" font-family=\"Helvetica,sans-Serif\" font-size=\"14.00\">value = [184, 1]</text>\n<text text-anchor=\"middle\" x=\"475\" y=\"-111.8\" font-family=\"Helvetica,sans-Serif\" font-size=\"14.00\">class = 0</text>\n</g>\n<!-- 10&#45;&gt;11 -->\n<g id=\"edge11\" class=\"edge\">\n<title>10&#45;&gt;11</title>\n<path fill=\"none\" stroke=\"black\" d=\"M572.31,-222.91C560.17,-213.38 547.14,-203.15 534.69,-193.37\"/>\n<polygon fill=\"black\" stroke=\"black\" points=\"536.63,-190.44 526.6,-187.02 532.31,-195.95 536.63,-190.44\"/>\n</g>\n<!-- 14 -->\n<g id=\"node15\" class=\"node\">\n<title>14</title>\n<path fill=\"#e6853f\" stroke=\"black\" d=\"M673,-187C673,-187 575,-187 575,-187 569,-187 563,-181 563,-175 563,-175 563,-116 563,-116 563,-110 569,-104 575,-104 575,-104 673,-104 673,-104 679,-104 685,-110 685,-116 685,-116 685,-175 685,-175 685,-181 679,-187 673,-187\"/>\n<text text-anchor=\"middle\" x=\"624\" y=\"-171.8\" font-family=\"Helvetica,sans-Serif\" font-size=\"14.00\">bmi &lt;= 179.5</text>\n<text text-anchor=\"middle\" x=\"624\" y=\"-156.8\" font-family=\"Helvetica,sans-Serif\" font-size=\"14.00\">entropy = 0.185</text>\n<text text-anchor=\"middle\" x=\"624\" y=\"-141.8\" font-family=\"Helvetica,sans-Serif\" font-size=\"14.00\">samples = 677</text>\n<text text-anchor=\"middle\" x=\"624\" y=\"-126.8\" font-family=\"Helvetica,sans-Serif\" font-size=\"14.00\">value = [658, 19]</text>\n<text text-anchor=\"middle\" x=\"624\" y=\"-111.8\" font-family=\"Helvetica,sans-Serif\" font-size=\"14.00\">class = 0</text>\n</g>\n<!-- 10&#45;&gt;14 -->\n<g id=\"edge14\" class=\"edge\">\n<title>10&#45;&gt;14</title>\n<path fill=\"none\" stroke=\"black\" d=\"M624,-222.91C624,-214.65 624,-205.86 624,-197.3\"/>\n<polygon fill=\"black\" stroke=\"black\" points=\"627.5,-197.02 624,-187.02 620.5,-197.02 627.5,-197.02\"/>\n</g>\n<!-- 12 -->\n<g id=\"node13\" class=\"node\">\n<title>12</title>\n<path fill=\"#e68742\" stroke=\"black\" d=\"M388,-68C388,-68 296,-68 296,-68 290,-68 284,-62 284,-56 284,-56 284,-12 284,-12 284,-6 290,0 296,0 296,0 388,0 388,0 394,0 400,-6 400,-12 400,-12 400,-56 400,-56 400,-62 394,-68 388,-68\"/>\n<text text-anchor=\"middle\" x=\"342\" y=\"-52.8\" font-family=\"Helvetica,sans-Serif\" font-size=\"14.00\">entropy = 0.258</text>\n<text text-anchor=\"middle\" x=\"342\" y=\"-37.8\" font-family=\"Helvetica,sans-Serif\" font-size=\"14.00\">samples = 23</text>\n<text text-anchor=\"middle\" x=\"342\" y=\"-22.8\" font-family=\"Helvetica,sans-Serif\" font-size=\"14.00\">value = [22, 1]</text>\n<text text-anchor=\"middle\" x=\"342\" y=\"-7.8\" font-family=\"Helvetica,sans-Serif\" font-size=\"14.00\">class = 0</text>\n</g>\n<!-- 11&#45;&gt;12 -->\n<g id=\"edge12\" class=\"edge\">\n<title>11&#45;&gt;12</title>\n<path fill=\"none\" stroke=\"black\" d=\"M425.48,-103.73C413.95,-94.24 401.7,-84.16 390.24,-74.72\"/>\n<polygon fill=\"black\" stroke=\"black\" points=\"392.39,-71.95 382.45,-68.3 387.94,-77.36 392.39,-71.95\"/>\n</g>\n<!-- 13 -->\n<g id=\"node14\" class=\"node\">\n<title>13</title>\n<path fill=\"#e58139\" stroke=\"black\" d=\"M519.5,-68C519.5,-68 430.5,-68 430.5,-68 424.5,-68 418.5,-62 418.5,-56 418.5,-56 418.5,-12 418.5,-12 418.5,-6 424.5,0 430.5,0 430.5,0 519.5,0 519.5,0 525.5,0 531.5,-6 531.5,-12 531.5,-12 531.5,-56 531.5,-56 531.5,-62 525.5,-68 519.5,-68\"/>\n<text text-anchor=\"middle\" x=\"475\" y=\"-52.8\" font-family=\"Helvetica,sans-Serif\" font-size=\"14.00\">entropy = 0.0</text>\n<text text-anchor=\"middle\" x=\"475\" y=\"-37.8\" font-family=\"Helvetica,sans-Serif\" font-size=\"14.00\">samples = 162</text>\n<text text-anchor=\"middle\" x=\"475\" y=\"-22.8\" font-family=\"Helvetica,sans-Serif\" font-size=\"14.00\">value = [162, 0]</text>\n<text text-anchor=\"middle\" x=\"475\" y=\"-7.8\" font-family=\"Helvetica,sans-Serif\" font-size=\"14.00\">class = 0</text>\n</g>\n<!-- 11&#45;&gt;13 -->\n<g id=\"edge13\" class=\"edge\">\n<title>11&#45;&gt;13</title>\n<path fill=\"none\" stroke=\"black\" d=\"M475,-103.73C475,-95.52 475,-86.86 475,-78.56\"/>\n<polygon fill=\"black\" stroke=\"black\" points=\"478.5,-78.3 475,-68.3 471.5,-78.3 478.5,-78.3\"/>\n</g>\n<!-- 15 -->\n<g id=\"node16\" class=\"node\">\n<title>15</title>\n<path fill=\"#e68642\" stroke=\"black\" d=\"M660,-68C660,-68 562,-68 562,-68 556,-68 550,-62 550,-56 550,-56 550,-12 550,-12 550,-6 556,0 562,0 562,0 660,0 660,0 666,0 672,-6 672,-12 672,-12 672,-56 672,-56 672,-62 666,-68 660,-68\"/>\n<text text-anchor=\"middle\" x=\"611\" y=\"-52.8\" font-family=\"Helvetica,sans-Serif\" font-size=\"14.00\">entropy = 0.25</text>\n<text text-anchor=\"middle\" x=\"611\" y=\"-37.8\" font-family=\"Helvetica,sans-Serif\" font-size=\"14.00\">samples = 311</text>\n<text text-anchor=\"middle\" x=\"611\" y=\"-22.8\" font-family=\"Helvetica,sans-Serif\" font-size=\"14.00\">value = [298, 13]</text>\n<text text-anchor=\"middle\" x=\"611\" y=\"-7.8\" font-family=\"Helvetica,sans-Serif\" font-size=\"14.00\">class = 0</text>\n</g>\n<!-- 14&#45;&gt;15 -->\n<g id=\"edge15\" class=\"edge\">\n<title>14&#45;&gt;15</title>\n<path fill=\"none\" stroke=\"black\" d=\"M619.16,-103.73C618.17,-95.43 617.13,-86.67 616.14,-78.28\"/>\n<polygon fill=\"black\" stroke=\"black\" points=\"619.61,-77.82 614.95,-68.3 612.66,-78.64 619.61,-77.82\"/>\n</g>\n<!-- 16 -->\n<g id=\"node17\" class=\"node\">\n<title>16</title>\n<path fill=\"#e5833c\" stroke=\"black\" d=\"M794,-68C794,-68 702,-68 702,-68 696,-68 690,-62 690,-56 690,-56 690,-12 690,-12 690,-6 696,0 702,0 702,0 794,0 794,0 800,0 806,-6 806,-12 806,-12 806,-56 806,-56 806,-62 800,-68 794,-68\"/>\n<text text-anchor=\"middle\" x=\"748\" y=\"-52.8\" font-family=\"Helvetica,sans-Serif\" font-size=\"14.00\">entropy = 0.121</text>\n<text text-anchor=\"middle\" x=\"748\" y=\"-37.8\" font-family=\"Helvetica,sans-Serif\" font-size=\"14.00\">samples = 366</text>\n<text text-anchor=\"middle\" x=\"748\" y=\"-22.8\" font-family=\"Helvetica,sans-Serif\" font-size=\"14.00\">value = [360, 6]</text>\n<text text-anchor=\"middle\" x=\"748\" y=\"-7.8\" font-family=\"Helvetica,sans-Serif\" font-size=\"14.00\">class = 0</text>\n</g>\n<!-- 14&#45;&gt;16 -->\n<g id=\"edge16\" class=\"edge\">\n<title>14&#45;&gt;16</title>\n<path fill=\"none\" stroke=\"black\" d=\"M670.17,-103.73C680.81,-94.33 692.12,-84.35 702.72,-74.99\"/>\n<polygon fill=\"black\" stroke=\"black\" points=\"705.11,-77.54 710.29,-68.3 700.48,-72.3 705.11,-77.54\"/>\n</g>\n<!-- 18 -->\n<g id=\"node19\" class=\"node\">\n<title>18</title>\n<path fill=\"#e58139\" stroke=\"black\" d=\"M798.5,-179.5C798.5,-179.5 717.5,-179.5 717.5,-179.5 711.5,-179.5 705.5,-173.5 705.5,-167.5 705.5,-167.5 705.5,-123.5 705.5,-123.5 705.5,-117.5 711.5,-111.5 717.5,-111.5 717.5,-111.5 798.5,-111.5 798.5,-111.5 804.5,-111.5 810.5,-117.5 810.5,-123.5 810.5,-123.5 810.5,-167.5 810.5,-167.5 810.5,-173.5 804.5,-179.5 798.5,-179.5\"/>\n<text text-anchor=\"middle\" x=\"758\" y=\"-164.3\" font-family=\"Helvetica,sans-Serif\" font-size=\"14.00\">entropy = 0.0</text>\n<text text-anchor=\"middle\" x=\"758\" y=\"-149.3\" font-family=\"Helvetica,sans-Serif\" font-size=\"14.00\">samples = 29</text>\n<text text-anchor=\"middle\" x=\"758\" y=\"-134.3\" font-family=\"Helvetica,sans-Serif\" font-size=\"14.00\">value = [29, 0]</text>\n<text text-anchor=\"middle\" x=\"758\" y=\"-119.3\" font-family=\"Helvetica,sans-Serif\" font-size=\"14.00\">class = 0</text>\n</g>\n<!-- 17&#45;&gt;18 -->\n<g id=\"edge18\" class=\"edge\">\n<title>17&#45;&gt;18</title>\n<path fill=\"none\" stroke=\"black\" d=\"M759.96,-222.91C759.68,-212.2 759.39,-200.62 759.11,-189.78\"/>\n<polygon fill=\"black\" stroke=\"black\" points=\"762.61,-189.57 758.85,-179.67 755.61,-189.75 762.61,-189.57\"/>\n</g>\n<!-- 19 -->\n<g id=\"node20\" class=\"node\">\n<title>19</title>\n<path fill=\"#e89151\" stroke=\"black\" d=\"M933,-187C933,-187 841,-187 841,-187 835,-187 829,-181 829,-175 829,-175 829,-116 829,-116 829,-110 835,-104 841,-104 841,-104 933,-104 933,-104 939,-104 945,-110 945,-116 945,-116 945,-175 945,-175 945,-181 939,-187 933,-187\"/>\n<text text-anchor=\"middle\" x=\"887\" y=\"-171.8\" font-family=\"Helvetica,sans-Serif\" font-size=\"14.00\">gender &lt;= 0.5</text>\n<text text-anchor=\"middle\" x=\"887\" y=\"-156.8\" font-family=\"Helvetica,sans-Serif\" font-size=\"14.00\">entropy = 0.499</text>\n<text text-anchor=\"middle\" x=\"887\" y=\"-141.8\" font-family=\"Helvetica,sans-Serif\" font-size=\"14.00\">samples = 73</text>\n<text text-anchor=\"middle\" x=\"887\" y=\"-126.8\" font-family=\"Helvetica,sans-Serif\" font-size=\"14.00\">value = [65, 8]</text>\n<text text-anchor=\"middle\" x=\"887\" y=\"-111.8\" font-family=\"Helvetica,sans-Serif\" font-size=\"14.00\">class = 0</text>\n</g>\n<!-- 17&#45;&gt;19 -->\n<g id=\"edge19\" class=\"edge\">\n<title>17&#45;&gt;19</title>\n<path fill=\"none\" stroke=\"black\" d=\"M804.72,-222.91C814.78,-213.56 825.57,-203.54 835.92,-193.93\"/>\n<polygon fill=\"black\" stroke=\"black\" points=\"838.42,-196.39 843.36,-187.02 833.65,-191.26 838.42,-196.39\"/>\n</g>\n<!-- 20 -->\n<g id=\"node21\" class=\"node\">\n<title>20</title>\n<path fill=\"#eca06a\" stroke=\"black\" d=\"M928,-68C928,-68 836,-68 836,-68 830,-68 824,-62 824,-56 824,-56 824,-12 824,-12 824,-6 830,0 836,0 836,0 928,0 928,0 934,0 940,-6 940,-12 940,-12 940,-56 940,-56 940,-62 934,-68 928,-68\"/>\n<text text-anchor=\"middle\" x=\"882\" y=\"-52.8\" font-family=\"Helvetica,sans-Serif\" font-size=\"14.00\">entropy = 0.722</text>\n<text text-anchor=\"middle\" x=\"882\" y=\"-37.8\" font-family=\"Helvetica,sans-Serif\" font-size=\"14.00\">samples = 35</text>\n<text text-anchor=\"middle\" x=\"882\" y=\"-22.8\" font-family=\"Helvetica,sans-Serif\" font-size=\"14.00\">value = [28, 7]</text>\n<text text-anchor=\"middle\" x=\"882\" y=\"-7.8\" font-family=\"Helvetica,sans-Serif\" font-size=\"14.00\">class = 0</text>\n</g>\n<!-- 19&#45;&gt;20 -->\n<g id=\"edge20\" class=\"edge\">\n<title>19&#45;&gt;20</title>\n<path fill=\"none\" stroke=\"black\" d=\"M885.14,-103.73C884.76,-95.52 884.37,-86.86 883.99,-78.56\"/>\n<polygon fill=\"black\" stroke=\"black\" points=\"887.47,-78.13 883.52,-68.3 880.48,-78.45 887.47,-78.13\"/>\n</g>\n<!-- 21 -->\n<g id=\"node22\" class=\"node\">\n<title>21</title>\n<path fill=\"#e6843e\" stroke=\"black\" d=\"M1062,-68C1062,-68 970,-68 970,-68 964,-68 958,-62 958,-56 958,-56 958,-12 958,-12 958,-6 964,0 970,0 970,0 1062,0 1062,0 1068,0 1074,-6 1074,-12 1074,-12 1074,-56 1074,-56 1074,-62 1068,-68 1062,-68\"/>\n<text text-anchor=\"middle\" x=\"1016\" y=\"-52.8\" font-family=\"Helvetica,sans-Serif\" font-size=\"14.00\">entropy = 0.176</text>\n<text text-anchor=\"middle\" x=\"1016\" y=\"-37.8\" font-family=\"Helvetica,sans-Serif\" font-size=\"14.00\">samples = 38</text>\n<text text-anchor=\"middle\" x=\"1016\" y=\"-22.8\" font-family=\"Helvetica,sans-Serif\" font-size=\"14.00\">value = [37, 1]</text>\n<text text-anchor=\"middle\" x=\"1016\" y=\"-7.8\" font-family=\"Helvetica,sans-Serif\" font-size=\"14.00\">class = 0</text>\n</g>\n<!-- 19&#45;&gt;21 -->\n<g id=\"edge21\" class=\"edge\">\n<title>19&#45;&gt;21</title>\n<path fill=\"none\" stroke=\"black\" d=\"M935.03,-103.73C946.1,-94.33 957.86,-84.35 968.89,-74.99\"/>\n<polygon fill=\"black\" stroke=\"black\" points=\"971.41,-77.44 976.77,-68.3 966.88,-72.1 971.41,-77.44\"/>\n</g>\n<!-- 23 -->\n<g id=\"node24\" class=\"node\">\n<title>23</title>\n<path fill=\"#e78d4b\" stroke=\"black\" d=\"M1467,-425C1467,-425 1295,-425 1295,-425 1289,-425 1283,-419 1283,-413 1283,-413 1283,-354 1283,-354 1283,-348 1289,-342 1295,-342 1295,-342 1467,-342 1467,-342 1473,-342 1479,-348 1479,-354 1479,-354 1479,-413 1479,-413 1479,-419 1473,-425 1467,-425\"/>\n<text text-anchor=\"middle\" x=\"1381\" y=\"-409.8\" font-family=\"Helvetica,sans-Serif\" font-size=\"14.00\">avg_glucose_level &lt;= 1.202</text>\n<text text-anchor=\"middle\" x=\"1381\" y=\"-394.8\" font-family=\"Helvetica,sans-Serif\" font-size=\"14.00\">entropy = 0.42</text>\n<text text-anchor=\"middle\" x=\"1381\" y=\"-379.8\" font-family=\"Helvetica,sans-Serif\" font-size=\"14.00\">samples = 845</text>\n<text text-anchor=\"middle\" x=\"1381\" y=\"-364.8\" font-family=\"Helvetica,sans-Serif\" font-size=\"14.00\">value = [773, 72]</text>\n<text text-anchor=\"middle\" x=\"1381\" y=\"-349.8\" font-family=\"Helvetica,sans-Serif\" font-size=\"14.00\">class = 0</text>\n</g>\n<!-- 22&#45;&gt;23 -->\n<g id=\"edge23\" class=\"edge\">\n<title>22&#45;&gt;23</title>\n<path fill=\"none\" stroke=\"black\" d=\"M1381,-460.91C1381,-452.65 1381,-443.86 1381,-435.3\"/>\n<polygon fill=\"black\" stroke=\"black\" points=\"1384.5,-435.02 1381,-425.02 1377.5,-435.02 1384.5,-435.02\"/>\n</g>\n<!-- 36 -->\n<g id=\"node37\" class=\"node\">\n<title>36</title>\n<path fill=\"#eca36f\" stroke=\"black\" d=\"M2125,-425C2125,-425 2027,-425 2027,-425 2021,-425 2015,-419 2015,-413 2015,-413 2015,-354 2015,-354 2015,-348 2021,-342 2027,-342 2027,-342 2125,-342 2125,-342 2131,-342 2137,-348 2137,-354 2137,-354 2137,-413 2137,-413 2137,-419 2131,-425 2125,-425\"/>\n<text text-anchor=\"middle\" x=\"2076\" y=\"-409.8\" font-family=\"Helvetica,sans-Serif\" font-size=\"14.00\">bmi &lt;= 204.0</text>\n<text text-anchor=\"middle\" x=\"2076\" y=\"-394.8\" font-family=\"Helvetica,sans-Serif\" font-size=\"14.00\">entropy = 0.75</text>\n<text text-anchor=\"middle\" x=\"2076\" y=\"-379.8\" font-family=\"Helvetica,sans-Serif\" font-size=\"14.00\">samples = 317</text>\n<text text-anchor=\"middle\" x=\"2076\" y=\"-364.8\" font-family=\"Helvetica,sans-Serif\" font-size=\"14.00\">value = [249, 68]</text>\n<text text-anchor=\"middle\" x=\"2076\" y=\"-349.8\" font-family=\"Helvetica,sans-Serif\" font-size=\"14.00\">class = 0</text>\n</g>\n<!-- 22&#45;&gt;36 -->\n<g id=\"edge36\" class=\"edge\">\n<title>22&#45;&gt;36</title>\n<path fill=\"none\" stroke=\"black\" d=\"M1450.18,-489.85C1582.52,-467.57 1870.3,-419.13 2004.47,-396.54\"/>\n<polygon fill=\"black\" stroke=\"black\" points=\"2005.35,-399.94 2014.63,-394.83 2004.19,-393.04 2005.35,-399.94\"/>\n</g>\n<!-- 24 -->\n<g id=\"node25\" class=\"node\">\n<title>24</title>\n<path fill=\"#e68844\" stroke=\"black\" d=\"M1342,-306C1342,-306 1244,-306 1244,-306 1238,-306 1232,-300 1232,-294 1232,-294 1232,-235 1232,-235 1232,-229 1238,-223 1244,-223 1244,-223 1342,-223 1342,-223 1348,-223 1354,-229 1354,-235 1354,-235 1354,-294 1354,-294 1354,-300 1348,-306 1342,-306\"/>\n<text text-anchor=\"middle\" x=\"1293\" y=\"-290.8\" font-family=\"Helvetica,sans-Serif\" font-size=\"14.00\">bmi &lt;= 109.5</text>\n<text text-anchor=\"middle\" x=\"1293\" y=\"-275.8\" font-family=\"Helvetica,sans-Serif\" font-size=\"14.00\">entropy = 0.303</text>\n<text text-anchor=\"middle\" x=\"1293\" y=\"-260.8\" font-family=\"Helvetica,sans-Serif\" font-size=\"14.00\">samples = 631</text>\n<text text-anchor=\"middle\" x=\"1293\" y=\"-245.8\" font-family=\"Helvetica,sans-Serif\" font-size=\"14.00\">value = [597, 34]</text>\n<text text-anchor=\"middle\" x=\"1293\" y=\"-230.8\" font-family=\"Helvetica,sans-Serif\" font-size=\"14.00\">class = 0</text>\n</g>\n<!-- 23&#45;&gt;24 -->\n<g id=\"edge24\" class=\"edge\">\n<title>23&#45;&gt;24</title>\n<path fill=\"none\" stroke=\"black\" d=\"M1350.47,-341.91C1343.71,-332.92 1336.48,-323.32 1329.52,-314.05\"/>\n<polygon fill=\"black\" stroke=\"black\" points=\"1332.29,-311.91 1323.48,-306.02 1326.69,-316.12 1332.29,-311.91\"/>\n</g>\n<!-- 29 -->\n<g id=\"node30\" class=\"node\">\n<title>29</title>\n<path fill=\"#eb9c64\" stroke=\"black\" d=\"M1556,-306C1556,-306 1384,-306 1384,-306 1378,-306 1372,-300 1372,-294 1372,-294 1372,-235 1372,-235 1372,-229 1378,-223 1384,-223 1384,-223 1556,-223 1556,-223 1562,-223 1568,-229 1568,-235 1568,-235 1568,-294 1568,-294 1568,-300 1562,-306 1556,-306\"/>\n<text text-anchor=\"middle\" x=\"1470\" y=\"-290.8\" font-family=\"Helvetica,sans-Serif\" font-size=\"14.00\">avg_glucose_level &lt;= 2.564</text>\n<text text-anchor=\"middle\" x=\"1470\" y=\"-275.8\" font-family=\"Helvetica,sans-Serif\" font-size=\"14.00\">entropy = 0.675</text>\n<text text-anchor=\"middle\" x=\"1470\" y=\"-260.8\" font-family=\"Helvetica,sans-Serif\" font-size=\"14.00\">samples = 214</text>\n<text text-anchor=\"middle\" x=\"1470\" y=\"-245.8\" font-family=\"Helvetica,sans-Serif\" font-size=\"14.00\">value = [176, 38]</text>\n<text text-anchor=\"middle\" x=\"1470\" y=\"-230.8\" font-family=\"Helvetica,sans-Serif\" font-size=\"14.00\">class = 0</text>\n</g>\n<!-- 23&#45;&gt;29 -->\n<g id=\"edge29\" class=\"edge\">\n<title>23&#45;&gt;29</title>\n<path fill=\"none\" stroke=\"black\" d=\"M1411.88,-341.91C1418.71,-332.92 1426.02,-323.32 1433.07,-314.05\"/>\n<polygon fill=\"black\" stroke=\"black\" points=\"1435.91,-316.1 1439.18,-306.02 1430.34,-311.86 1435.91,-316.1\"/>\n</g>\n<!-- 25 -->\n<g id=\"node26\" class=\"node\">\n<title>25</title>\n<path fill=\"#e58139\" stroke=\"black\" d=\"M1201.5,-179.5C1201.5,-179.5 1120.5,-179.5 1120.5,-179.5 1114.5,-179.5 1108.5,-173.5 1108.5,-167.5 1108.5,-167.5 1108.5,-123.5 1108.5,-123.5 1108.5,-117.5 1114.5,-111.5 1120.5,-111.5 1120.5,-111.5 1201.5,-111.5 1201.5,-111.5 1207.5,-111.5 1213.5,-117.5 1213.5,-123.5 1213.5,-123.5 1213.5,-167.5 1213.5,-167.5 1213.5,-173.5 1207.5,-179.5 1201.5,-179.5\"/>\n<text text-anchor=\"middle\" x=\"1161\" y=\"-164.3\" font-family=\"Helvetica,sans-Serif\" font-size=\"14.00\">entropy = 0.0</text>\n<text text-anchor=\"middle\" x=\"1161\" y=\"-149.3\" font-family=\"Helvetica,sans-Serif\" font-size=\"14.00\">samples = 67</text>\n<text text-anchor=\"middle\" x=\"1161\" y=\"-134.3\" font-family=\"Helvetica,sans-Serif\" font-size=\"14.00\">value = [67, 0]</text>\n<text text-anchor=\"middle\" x=\"1161\" y=\"-119.3\" font-family=\"Helvetica,sans-Serif\" font-size=\"14.00\">class = 0</text>\n</g>\n<!-- 24&#45;&gt;25 -->\n<g id=\"edge25\" class=\"edge\">\n<title>24&#45;&gt;25</title>\n<path fill=\"none\" stroke=\"black\" d=\"M1247.2,-222.91C1233.88,-211.1 1219.35,-198.22 1206.07,-186.45\"/>\n<polygon fill=\"black\" stroke=\"black\" points=\"1208.22,-183.68 1198.42,-179.67 1203.58,-188.92 1208.22,-183.68\"/>\n</g>\n<!-- 26 -->\n<g id=\"node27\" class=\"node\">\n<title>26</title>\n<path fill=\"#e78946\" stroke=\"black\" d=\"M1342,-187C1342,-187 1244,-187 1244,-187 1238,-187 1232,-181 1232,-175 1232,-175 1232,-116 1232,-116 1232,-110 1238,-104 1244,-104 1244,-104 1342,-104 1342,-104 1348,-104 1354,-110 1354,-116 1354,-116 1354,-175 1354,-175 1354,-181 1348,-187 1342,-187\"/>\n<text text-anchor=\"middle\" x=\"1293\" y=\"-171.8\" font-family=\"Helvetica,sans-Serif\" font-size=\"14.00\">bmi &lt;= 152.5</text>\n<text text-anchor=\"middle\" x=\"1293\" y=\"-156.8\" font-family=\"Helvetica,sans-Serif\" font-size=\"14.00\">entropy = 0.329</text>\n<text text-anchor=\"middle\" x=\"1293\" y=\"-141.8\" font-family=\"Helvetica,sans-Serif\" font-size=\"14.00\">samples = 564</text>\n<text text-anchor=\"middle\" x=\"1293\" y=\"-126.8\" font-family=\"Helvetica,sans-Serif\" font-size=\"14.00\">value = [530, 34]</text>\n<text text-anchor=\"middle\" x=\"1293\" y=\"-111.8\" font-family=\"Helvetica,sans-Serif\" font-size=\"14.00\">class = 0</text>\n</g>\n<!-- 24&#45;&gt;26 -->\n<g id=\"edge26\" class=\"edge\">\n<title>24&#45;&gt;26</title>\n<path fill=\"none\" stroke=\"black\" d=\"M1293,-222.91C1293,-214.65 1293,-205.86 1293,-197.3\"/>\n<polygon fill=\"black\" stroke=\"black\" points=\"1296.5,-197.02 1293,-187.02 1289.5,-197.02 1296.5,-197.02\"/>\n</g>\n<!-- 27 -->\n<g id=\"node28\" class=\"node\">\n<title>27</title>\n<path fill=\"#e89051\" stroke=\"black\" d=\"M1202,-68C1202,-68 1104,-68 1104,-68 1098,-68 1092,-62 1092,-56 1092,-56 1092,-12 1092,-12 1092,-6 1098,0 1104,0 1104,0 1202,0 1202,0 1208,0 1214,-6 1214,-12 1214,-12 1214,-56 1214,-56 1214,-62 1208,-68 1202,-68\"/>\n<text text-anchor=\"middle\" x=\"1153\" y=\"-52.8\" font-family=\"Helvetica,sans-Serif\" font-size=\"14.00\">entropy = 0.498</text>\n<text text-anchor=\"middle\" x=\"1153\" y=\"-37.8\" font-family=\"Helvetica,sans-Serif\" font-size=\"14.00\">samples = 183</text>\n<text text-anchor=\"middle\" x=\"1153\" y=\"-22.8\" font-family=\"Helvetica,sans-Serif\" font-size=\"14.00\">value = [163, 20]</text>\n<text text-anchor=\"middle\" x=\"1153\" y=\"-7.8\" font-family=\"Helvetica,sans-Serif\" font-size=\"14.00\">class = 0</text>\n</g>\n<!-- 26&#45;&gt;27 -->\n<g id=\"edge27\" class=\"edge\">\n<title>26&#45;&gt;27</title>\n<path fill=\"none\" stroke=\"black\" d=\"M1240.87,-103.73C1228.74,-94.24 1215.85,-84.16 1203.78,-74.72\"/>\n<polygon fill=\"black\" stroke=\"black\" points=\"1205.61,-71.7 1195.57,-68.3 1201.3,-77.22 1205.61,-71.7\"/>\n</g>\n<!-- 28 -->\n<g id=\"node29\" class=\"node\">\n<title>28</title>\n<path fill=\"#e68641\" stroke=\"black\" d=\"M1342,-68C1342,-68 1244,-68 1244,-68 1238,-68 1232,-62 1232,-56 1232,-56 1232,-12 1232,-12 1232,-6 1238,0 1244,0 1244,0 1342,0 1342,0 1348,0 1354,-6 1354,-12 1354,-12 1354,-56 1354,-56 1354,-62 1348,-68 1342,-68\"/>\n<text text-anchor=\"middle\" x=\"1293\" y=\"-52.8\" font-family=\"Helvetica,sans-Serif\" font-size=\"14.00\">entropy = 0.227</text>\n<text text-anchor=\"middle\" x=\"1293\" y=\"-37.8\" font-family=\"Helvetica,sans-Serif\" font-size=\"14.00\">samples = 381</text>\n<text text-anchor=\"middle\" x=\"1293\" y=\"-22.8\" font-family=\"Helvetica,sans-Serif\" font-size=\"14.00\">value = [367, 14]</text>\n<text text-anchor=\"middle\" x=\"1293\" y=\"-7.8\" font-family=\"Helvetica,sans-Serif\" font-size=\"14.00\">class = 0</text>\n</g>\n<!-- 26&#45;&gt;28 -->\n<g id=\"edge28\" class=\"edge\">\n<title>26&#45;&gt;28</title>\n<path fill=\"none\" stroke=\"black\" d=\"M1293,-103.73C1293,-95.52 1293,-86.86 1293,-78.56\"/>\n<polygon fill=\"black\" stroke=\"black\" points=\"1296.5,-78.3 1293,-68.3 1289.5,-78.3 1296.5,-78.3\"/>\n</g>\n<!-- 30 -->\n<g id=\"node31\" class=\"node\">\n<title>30</title>\n<path fill=\"#eca36f\" stroke=\"black\" d=\"M1556,-187C1556,-187 1384,-187 1384,-187 1378,-187 1372,-181 1372,-175 1372,-175 1372,-116 1372,-116 1372,-110 1378,-104 1384,-104 1384,-104 1556,-104 1556,-104 1562,-104 1568,-110 1568,-116 1568,-116 1568,-175 1568,-175 1568,-181 1562,-187 1556,-187\"/>\n<text text-anchor=\"middle\" x=\"1470\" y=\"-171.8\" font-family=\"Helvetica,sans-Serif\" font-size=\"14.00\">avg_glucose_level &lt;= 2.548</text>\n<text text-anchor=\"middle\" x=\"1470\" y=\"-156.8\" font-family=\"Helvetica,sans-Serif\" font-size=\"14.00\">entropy = 0.749</text>\n<text text-anchor=\"middle\" x=\"1470\" y=\"-141.8\" font-family=\"Helvetica,sans-Serif\" font-size=\"14.00\">samples = 145</text>\n<text text-anchor=\"middle\" x=\"1470\" y=\"-126.8\" font-family=\"Helvetica,sans-Serif\" font-size=\"14.00\">value = [114, 31]</text>\n<text text-anchor=\"middle\" x=\"1470\" y=\"-111.8\" font-family=\"Helvetica,sans-Serif\" font-size=\"14.00\">class = 0</text>\n</g>\n<!-- 29&#45;&gt;30 -->\n<g id=\"edge30\" class=\"edge\">\n<title>29&#45;&gt;30</title>\n<path fill=\"none\" stroke=\"black\" d=\"M1470,-222.91C1470,-214.65 1470,-205.86 1470,-197.3\"/>\n<polygon fill=\"black\" stroke=\"black\" points=\"1473.5,-197.02 1470,-187.02 1466.5,-197.02 1473.5,-197.02\"/>\n</g>\n<!-- 33 -->\n<g id=\"node34\" class=\"node\">\n<title>33</title>\n<path fill=\"#e88f4f\" stroke=\"black\" d=\"M1770,-187C1770,-187 1598,-187 1598,-187 1592,-187 1586,-181 1586,-175 1586,-175 1586,-116 1586,-116 1586,-110 1592,-104 1598,-104 1598,-104 1770,-104 1770,-104 1776,-104 1782,-110 1782,-116 1782,-116 1782,-175 1782,-175 1782,-181 1776,-187 1770,-187\"/>\n<text text-anchor=\"middle\" x=\"1684\" y=\"-171.8\" font-family=\"Helvetica,sans-Serif\" font-size=\"14.00\">avg_glucose_level &lt;= 2.818</text>\n<text text-anchor=\"middle\" x=\"1684\" y=\"-156.8\" font-family=\"Helvetica,sans-Serif\" font-size=\"14.00\">entropy = 0.474</text>\n<text text-anchor=\"middle\" x=\"1684\" y=\"-141.8\" font-family=\"Helvetica,sans-Serif\" font-size=\"14.00\">samples = 69</text>\n<text text-anchor=\"middle\" x=\"1684\" y=\"-126.8\" font-family=\"Helvetica,sans-Serif\" font-size=\"14.00\">value = [62, 7]</text>\n<text text-anchor=\"middle\" x=\"1684\" y=\"-111.8\" font-family=\"Helvetica,sans-Serif\" font-size=\"14.00\">class = 0</text>\n</g>\n<!-- 29&#45;&gt;33 -->\n<g id=\"edge33\" class=\"edge\">\n<title>29&#45;&gt;33</title>\n<path fill=\"none\" stroke=\"black\" d=\"M1544.25,-222.91C1562.59,-212.88 1582.35,-202.07 1601.08,-191.84\"/>\n<polygon fill=\"black\" stroke=\"black\" points=\"1602.79,-194.89 1609.89,-187.02 1599.43,-188.75 1602.79,-194.89\"/>\n</g>\n<!-- 31 -->\n<g id=\"node32\" class=\"node\">\n<title>31</title>\n<path fill=\"#eba06a\" stroke=\"black\" d=\"M1482,-68C1482,-68 1384,-68 1384,-68 1378,-68 1372,-62 1372,-56 1372,-56 1372,-12 1372,-12 1372,-6 1378,0 1384,0 1384,0 1482,0 1482,0 1488,0 1494,-6 1494,-12 1494,-12 1494,-56 1494,-56 1494,-62 1488,-68 1482,-68\"/>\n<text text-anchor=\"middle\" x=\"1433\" y=\"-52.8\" font-family=\"Helvetica,sans-Serif\" font-size=\"14.00\">entropy = 0.716</text>\n<text text-anchor=\"middle\" x=\"1433\" y=\"-37.8\" font-family=\"Helvetica,sans-Serif\" font-size=\"14.00\">samples = 142</text>\n<text text-anchor=\"middle\" x=\"1433\" y=\"-22.8\" font-family=\"Helvetica,sans-Serif\" font-size=\"14.00\">value = [114, 28]</text>\n<text text-anchor=\"middle\" x=\"1433\" y=\"-7.8\" font-family=\"Helvetica,sans-Serif\" font-size=\"14.00\">class = 0</text>\n</g>\n<!-- 30&#45;&gt;31 -->\n<g id=\"edge31\" class=\"edge\">\n<title>30&#45;&gt;31</title>\n<path fill=\"none\" stroke=\"black\" d=\"M1456.22,-103.73C1453.39,-95.34 1450.39,-86.47 1447.53,-78.01\"/>\n<polygon fill=\"black\" stroke=\"black\" points=\"1450.77,-76.65 1444.25,-68.3 1444.14,-78.89 1450.77,-76.65\"/>\n</g>\n<!-- 32 -->\n<g id=\"node33\" class=\"node\">\n<title>32</title>\n<path fill=\"#399de5\" stroke=\"black\" d=\"M1600,-68C1600,-68 1524,-68 1524,-68 1518,-68 1512,-62 1512,-56 1512,-56 1512,-12 1512,-12 1512,-6 1518,0 1524,0 1524,0 1600,0 1600,0 1606,0 1612,-6 1612,-12 1612,-12 1612,-56 1612,-56 1612,-62 1606,-68 1600,-68\"/>\n<text text-anchor=\"middle\" x=\"1562\" y=\"-52.8\" font-family=\"Helvetica,sans-Serif\" font-size=\"14.00\">entropy = 0.0</text>\n<text text-anchor=\"middle\" x=\"1562\" y=\"-37.8\" font-family=\"Helvetica,sans-Serif\" font-size=\"14.00\">samples = 3</text>\n<text text-anchor=\"middle\" x=\"1562\" y=\"-22.8\" font-family=\"Helvetica,sans-Serif\" font-size=\"14.00\">value = [0, 3]</text>\n<text text-anchor=\"middle\" x=\"1562\" y=\"-7.8\" font-family=\"Helvetica,sans-Serif\" font-size=\"14.00\">class = 1</text>\n</g>\n<!-- 30&#45;&gt;32 -->\n<g id=\"edge32\" class=\"edge\">\n<title>30&#45;&gt;32</title>\n<path fill=\"none\" stroke=\"black\" d=\"M1504.26,-103.73C1511.84,-94.7 1519.89,-85.12 1527.48,-76.08\"/>\n<polygon fill=\"black\" stroke=\"black\" points=\"1530.27,-78.21 1534.02,-68.3 1524.91,-73.7 1530.27,-78.21\"/>\n</g>\n<!-- 34 -->\n<g id=\"node35\" class=\"node\">\n<title>34</title>\n<path fill=\"#e58139\" stroke=\"black\" d=\"M1723.5,-68C1723.5,-68 1642.5,-68 1642.5,-68 1636.5,-68 1630.5,-62 1630.5,-56 1630.5,-56 1630.5,-12 1630.5,-12 1630.5,-6 1636.5,0 1642.5,0 1642.5,0 1723.5,0 1723.5,0 1729.5,0 1735.5,-6 1735.5,-12 1735.5,-12 1735.5,-56 1735.5,-56 1735.5,-62 1729.5,-68 1723.5,-68\"/>\n<text text-anchor=\"middle\" x=\"1683\" y=\"-52.8\" font-family=\"Helvetica,sans-Serif\" font-size=\"14.00\">entropy = 0.0</text>\n<text text-anchor=\"middle\" x=\"1683\" y=\"-37.8\" font-family=\"Helvetica,sans-Serif\" font-size=\"14.00\">samples = 32</text>\n<text text-anchor=\"middle\" x=\"1683\" y=\"-22.8\" font-family=\"Helvetica,sans-Serif\" font-size=\"14.00\">value = [32, 0]</text>\n<text text-anchor=\"middle\" x=\"1683\" y=\"-7.8\" font-family=\"Helvetica,sans-Serif\" font-size=\"14.00\">class = 0</text>\n</g>\n<!-- 33&#45;&gt;34 -->\n<g id=\"edge34\" class=\"edge\">\n<title>33&#45;&gt;34</title>\n<path fill=\"none\" stroke=\"black\" d=\"M1683.63,-103.73C1683.55,-95.52 1683.47,-86.86 1683.4,-78.56\"/>\n<polygon fill=\"black\" stroke=\"black\" points=\"1686.9,-78.27 1683.3,-68.3 1679.9,-78.33 1686.9,-78.27\"/>\n</g>\n<!-- 35 -->\n<g id=\"node36\" class=\"node\">\n<title>35</title>\n<path fill=\"#eb9e67\" stroke=\"black\" d=\"M1846.5,-68C1846.5,-68 1765.5,-68 1765.5,-68 1759.5,-68 1753.5,-62 1753.5,-56 1753.5,-56 1753.5,-12 1753.5,-12 1753.5,-6 1759.5,0 1765.5,0 1765.5,0 1846.5,0 1846.5,0 1852.5,0 1858.5,-6 1858.5,-12 1858.5,-12 1858.5,-56 1858.5,-56 1858.5,-62 1852.5,-68 1846.5,-68\"/>\n<text text-anchor=\"middle\" x=\"1806\" y=\"-52.8\" font-family=\"Helvetica,sans-Serif\" font-size=\"14.00\">entropy = 0.7</text>\n<text text-anchor=\"middle\" x=\"1806\" y=\"-37.8\" font-family=\"Helvetica,sans-Serif\" font-size=\"14.00\">samples = 37</text>\n<text text-anchor=\"middle\" x=\"1806\" y=\"-22.8\" font-family=\"Helvetica,sans-Serif\" font-size=\"14.00\">value = [30, 7]</text>\n<text text-anchor=\"middle\" x=\"1806\" y=\"-7.8\" font-family=\"Helvetica,sans-Serif\" font-size=\"14.00\">class = 0</text>\n</g>\n<!-- 33&#45;&gt;35 -->\n<g id=\"edge35\" class=\"edge\">\n<title>33&#45;&gt;35</title>\n<path fill=\"none\" stroke=\"black\" d=\"M1729.43,-103.73C1739.9,-94.33 1751.02,-84.35 1761.45,-74.99\"/>\n<polygon fill=\"black\" stroke=\"black\" points=\"1763.79,-77.58 1768.9,-68.3 1759.12,-72.37 1763.79,-77.58\"/>\n</g>\n<!-- 37 -->\n<g id=\"node38\" class=\"node\">\n<title>37</title>\n<path fill=\"#edaa79\" stroke=\"black\" d=\"M2164,-306C2164,-306 1988,-306 1988,-306 1982,-306 1976,-300 1976,-294 1976,-294 1976,-235 1976,-235 1976,-229 1982,-223 1988,-223 1988,-223 2164,-223 2164,-223 2170,-223 2176,-229 2176,-235 2176,-235 2176,-294 2176,-294 2176,-300 2170,-306 2164,-306\"/>\n<text text-anchor=\"middle\" x=\"2076\" y=\"-290.8\" font-family=\"Helvetica,sans-Serif\" font-size=\"14.00\">avg_glucose_level &lt;= &#45;0.055</text>\n<text text-anchor=\"middle\" x=\"2076\" y=\"-275.8\" font-family=\"Helvetica,sans-Serif\" font-size=\"14.00\">entropy = 0.801</text>\n<text text-anchor=\"middle\" x=\"2076\" y=\"-260.8\" font-family=\"Helvetica,sans-Serif\" font-size=\"14.00\">samples = 263</text>\n<text text-anchor=\"middle\" x=\"2076\" y=\"-245.8\" font-family=\"Helvetica,sans-Serif\" font-size=\"14.00\">value = [199, 64]</text>\n<text text-anchor=\"middle\" x=\"2076\" y=\"-230.8\" font-family=\"Helvetica,sans-Serif\" font-size=\"14.00\">class = 0</text>\n</g>\n<!-- 36&#45;&gt;37 -->\n<g id=\"edge37\" class=\"edge\">\n<title>36&#45;&gt;37</title>\n<path fill=\"none\" stroke=\"black\" d=\"M2076,-341.91C2076,-333.65 2076,-324.86 2076,-316.3\"/>\n<polygon fill=\"black\" stroke=\"black\" points=\"2079.5,-316.02 2076,-306.02 2072.5,-316.02 2079.5,-316.02\"/>\n</g>\n<!-- 44 -->\n<g id=\"node45\" class=\"node\">\n<title>44</title>\n<path fill=\"#e78b49\" stroke=\"black\" d=\"M2438,-306C2438,-306 2302,-306 2302,-306 2296,-306 2290,-300 2290,-294 2290,-294 2290,-235 2290,-235 2290,-229 2296,-223 2302,-223 2302,-223 2438,-223 2438,-223 2444,-223 2450,-229 2450,-235 2450,-235 2450,-294 2450,-294 2450,-300 2444,-306 2438,-306\"/>\n<text text-anchor=\"middle\" x=\"2370\" y=\"-290.8\" font-family=\"Helvetica,sans-Serif\" font-size=\"14.00\">smoking_status &lt;= 1.5</text>\n<text text-anchor=\"middle\" x=\"2370\" y=\"-275.8\" font-family=\"Helvetica,sans-Serif\" font-size=\"14.00\">entropy = 0.381</text>\n<text text-anchor=\"middle\" x=\"2370\" y=\"-260.8\" font-family=\"Helvetica,sans-Serif\" font-size=\"14.00\">samples = 54</text>\n<text text-anchor=\"middle\" x=\"2370\" y=\"-245.8\" font-family=\"Helvetica,sans-Serif\" font-size=\"14.00\">value = [50, 4]</text>\n<text text-anchor=\"middle\" x=\"2370\" y=\"-230.8\" font-family=\"Helvetica,sans-Serif\" font-size=\"14.00\">class = 0</text>\n</g>\n<!-- 36&#45;&gt;44 -->\n<g id=\"edge44\" class=\"edge\">\n<title>36&#45;&gt;44</title>\n<path fill=\"none\" stroke=\"black\" d=\"M2137.27,-358.12C2178.68,-341.64 2234.04,-319.61 2280.37,-301.17\"/>\n<polygon fill=\"black\" stroke=\"black\" points=\"2281.82,-304.36 2289.81,-297.41 2279.23,-297.86 2281.82,-304.36\"/>\n</g>\n<!-- 38 -->\n<g id=\"node39\" class=\"node\">\n<title>38</title>\n<path fill=\"#eb9d65\" stroke=\"black\" d=\"M2069,-187C2069,-187 1893,-187 1893,-187 1887,-187 1881,-181 1881,-175 1881,-175 1881,-116 1881,-116 1881,-110 1887,-104 1893,-104 1893,-104 2069,-104 2069,-104 2075,-104 2081,-110 2081,-116 2081,-116 2081,-175 2081,-175 2081,-181 2075,-187 2069,-187\"/>\n<text text-anchor=\"middle\" x=\"1981\" y=\"-171.8\" font-family=\"Helvetica,sans-Serif\" font-size=\"14.00\">avg_glucose_level &lt;= &#45;0.175</text>\n<text text-anchor=\"middle\" x=\"1981\" y=\"-156.8\" font-family=\"Helvetica,sans-Serif\" font-size=\"14.00\">entropy = 0.684</text>\n<text text-anchor=\"middle\" x=\"1981\" y=\"-141.8\" font-family=\"Helvetica,sans-Serif\" font-size=\"14.00\">samples = 154</text>\n<text text-anchor=\"middle\" x=\"1981\" y=\"-126.8\" font-family=\"Helvetica,sans-Serif\" font-size=\"14.00\">value = [126, 28]</text>\n<text text-anchor=\"middle\" x=\"1981\" y=\"-111.8\" font-family=\"Helvetica,sans-Serif\" font-size=\"14.00\">class = 0</text>\n</g>\n<!-- 37&#45;&gt;38 -->\n<g id=\"edge38\" class=\"edge\">\n<title>37&#45;&gt;38</title>\n<path fill=\"none\" stroke=\"black\" d=\"M2043.04,-222.91C2035.75,-213.92 2027.94,-204.32 2020.42,-195.05\"/>\n<polygon fill=\"black\" stroke=\"black\" points=\"2022.92,-192.58 2013.9,-187.02 2017.49,-196.99 2022.92,-192.58\"/>\n</g>\n<!-- 41 -->\n<g id=\"node42\" class=\"node\">\n<title>41</title>\n<path fill=\"#f2bf9b\" stroke=\"black\" d=\"M2287,-187C2287,-187 2111,-187 2111,-187 2105,-187 2099,-181 2099,-175 2099,-175 2099,-116 2099,-116 2099,-110 2105,-104 2111,-104 2111,-104 2287,-104 2287,-104 2293,-104 2299,-110 2299,-116 2299,-116 2299,-175 2299,-175 2299,-181 2293,-187 2287,-187\"/>\n<text text-anchor=\"middle\" x=\"2199\" y=\"-171.8\" font-family=\"Helvetica,sans-Serif\" font-size=\"14.00\">avg_glucose_level &lt;= &#45;0.005</text>\n<text text-anchor=\"middle\" x=\"2199\" y=\"-156.8\" font-family=\"Helvetica,sans-Serif\" font-size=\"14.00\">entropy = 0.915</text>\n<text text-anchor=\"middle\" x=\"2199\" y=\"-141.8\" font-family=\"Helvetica,sans-Serif\" font-size=\"14.00\">samples = 109</text>\n<text text-anchor=\"middle\" x=\"2199\" y=\"-126.8\" font-family=\"Helvetica,sans-Serif\" font-size=\"14.00\">value = [73, 36]</text>\n<text text-anchor=\"middle\" x=\"2199\" y=\"-111.8\" font-family=\"Helvetica,sans-Serif\" font-size=\"14.00\">class = 0</text>\n</g>\n<!-- 37&#45;&gt;41 -->\n<g id=\"edge41\" class=\"edge\">\n<title>37&#45;&gt;41</title>\n<path fill=\"none\" stroke=\"black\" d=\"M2118.67,-222.91C2128.5,-213.56 2139.04,-203.54 2149.14,-193.93\"/>\n<polygon fill=\"black\" stroke=\"black\" points=\"2151.57,-196.45 2156.4,-187.02 2146.74,-191.38 2151.57,-196.45\"/>\n</g>\n<!-- 39 -->\n<g id=\"node40\" class=\"node\">\n<title>39</title>\n<path fill=\"#eca16c\" stroke=\"black\" d=\"M1987,-68C1987,-68 1889,-68 1889,-68 1883,-68 1877,-62 1877,-56 1877,-56 1877,-12 1877,-12 1877,-6 1883,0 1889,0 1889,0 1987,0 1987,0 1993,0 1999,-6 1999,-12 1999,-12 1999,-56 1999,-56 1999,-62 1993,-68 1987,-68\"/>\n<text text-anchor=\"middle\" x=\"1938\" y=\"-52.8\" font-family=\"Helvetica,sans-Serif\" font-size=\"14.00\">entropy = 0.731</text>\n<text text-anchor=\"middle\" x=\"1938\" y=\"-37.8\" font-family=\"Helvetica,sans-Serif\" font-size=\"14.00\">samples = 137</text>\n<text text-anchor=\"middle\" x=\"1938\" y=\"-22.8\" font-family=\"Helvetica,sans-Serif\" font-size=\"14.00\">value = [109, 28]</text>\n<text text-anchor=\"middle\" x=\"1938\" y=\"-7.8\" font-family=\"Helvetica,sans-Serif\" font-size=\"14.00\">class = 0</text>\n</g>\n<!-- 38&#45;&gt;39 -->\n<g id=\"edge39\" class=\"edge\">\n<title>38&#45;&gt;39</title>\n<path fill=\"none\" stroke=\"black\" d=\"M1964.99,-103.73C1961.66,-95.24 1958.14,-86.28 1954.78,-77.73\"/>\n<polygon fill=\"black\" stroke=\"black\" points=\"1957.99,-76.33 1951.08,-68.3 1951.47,-78.89 1957.99,-76.33\"/>\n</g>\n<!-- 40 -->\n<g id=\"node41\" class=\"node\">\n<title>40</title>\n<path fill=\"#e58139\" stroke=\"black\" d=\"M2110.5,-68C2110.5,-68 2029.5,-68 2029.5,-68 2023.5,-68 2017.5,-62 2017.5,-56 2017.5,-56 2017.5,-12 2017.5,-12 2017.5,-6 2023.5,0 2029.5,0 2029.5,0 2110.5,0 2110.5,0 2116.5,0 2122.5,-6 2122.5,-12 2122.5,-12 2122.5,-56 2122.5,-56 2122.5,-62 2116.5,-68 2110.5,-68\"/>\n<text text-anchor=\"middle\" x=\"2070\" y=\"-52.8\" font-family=\"Helvetica,sans-Serif\" font-size=\"14.00\">entropy = 0.0</text>\n<text text-anchor=\"middle\" x=\"2070\" y=\"-37.8\" font-family=\"Helvetica,sans-Serif\" font-size=\"14.00\">samples = 17</text>\n<text text-anchor=\"middle\" x=\"2070\" y=\"-22.8\" font-family=\"Helvetica,sans-Serif\" font-size=\"14.00\">value = [17, 0]</text>\n<text text-anchor=\"middle\" x=\"2070\" y=\"-7.8\" font-family=\"Helvetica,sans-Serif\" font-size=\"14.00\">class = 0</text>\n</g>\n<!-- 38&#45;&gt;40 -->\n<g id=\"edge40\" class=\"edge\">\n<title>38&#45;&gt;40</title>\n<path fill=\"none\" stroke=\"black\" d=\"M2014.14,-103.73C2021.48,-94.7 2029.26,-85.12 2036.61,-76.08\"/>\n<polygon fill=\"black\" stroke=\"black\" points=\"2039.34,-78.27 2042.93,-68.3 2033.91,-73.85 2039.34,-78.27\"/>\n</g>\n<!-- 42 -->\n<g id=\"node43\" class=\"node\">\n<title>42</title>\n<path fill=\"#88c4ef\" stroke=\"black\" d=\"M2245,-68C2245,-68 2153,-68 2153,-68 2147,-68 2141,-62 2141,-56 2141,-56 2141,-12 2141,-12 2141,-6 2147,0 2153,0 2153,0 2245,0 2245,0 2251,0 2257,-6 2257,-12 2257,-12 2257,-56 2257,-56 2257,-62 2251,-68 2245,-68\"/>\n<text text-anchor=\"middle\" x=\"2199\" y=\"-52.8\" font-family=\"Helvetica,sans-Serif\" font-size=\"14.00\">entropy = 0.863</text>\n<text text-anchor=\"middle\" x=\"2199\" y=\"-37.8\" font-family=\"Helvetica,sans-Serif\" font-size=\"14.00\">samples = 7</text>\n<text text-anchor=\"middle\" x=\"2199\" y=\"-22.8\" font-family=\"Helvetica,sans-Serif\" font-size=\"14.00\">value = [2, 5]</text>\n<text text-anchor=\"middle\" x=\"2199\" y=\"-7.8\" font-family=\"Helvetica,sans-Serif\" font-size=\"14.00\">class = 1</text>\n</g>\n<!-- 41&#45;&gt;42 -->\n<g id=\"edge42\" class=\"edge\">\n<title>41&#45;&gt;42</title>\n<path fill=\"none\" stroke=\"black\" d=\"M2199,-103.73C2199,-95.52 2199,-86.86 2199,-78.56\"/>\n<polygon fill=\"black\" stroke=\"black\" points=\"2202.5,-78.3 2199,-68.3 2195.5,-78.3 2202.5,-78.3\"/>\n</g>\n<!-- 43 -->\n<g id=\"node44\" class=\"node\">\n<title>43</title>\n<path fill=\"#f0b88f\" stroke=\"black\" d=\"M2379,-68C2379,-68 2287,-68 2287,-68 2281,-68 2275,-62 2275,-56 2275,-56 2275,-12 2275,-12 2275,-6 2281,0 2287,0 2287,0 2379,0 2379,0 2385,0 2391,-6 2391,-12 2391,-12 2391,-56 2391,-56 2391,-62 2385,-68 2379,-68\"/>\n<text text-anchor=\"middle\" x=\"2333\" y=\"-52.8\" font-family=\"Helvetica,sans-Serif\" font-size=\"14.00\">entropy = 0.886</text>\n<text text-anchor=\"middle\" x=\"2333\" y=\"-37.8\" font-family=\"Helvetica,sans-Serif\" font-size=\"14.00\">samples = 102</text>\n<text text-anchor=\"middle\" x=\"2333\" y=\"-22.8\" font-family=\"Helvetica,sans-Serif\" font-size=\"14.00\">value = [71, 31]</text>\n<text text-anchor=\"middle\" x=\"2333\" y=\"-7.8\" font-family=\"Helvetica,sans-Serif\" font-size=\"14.00\">class = 0</text>\n</g>\n<!-- 41&#45;&gt;43 -->\n<g id=\"edge43\" class=\"edge\">\n<title>41&#45;&gt;43</title>\n<path fill=\"none\" stroke=\"black\" d=\"M2248.9,-103.73C2260.5,-94.24 2272.85,-84.16 2284.4,-74.72\"/>\n<polygon fill=\"black\" stroke=\"black\" points=\"2286.72,-77.34 2292.25,-68.3 2282.29,-71.92 2286.72,-77.34\"/>\n</g>\n<!-- 45 -->\n<g id=\"node46\" class=\"node\">\n<title>45</title>\n<path fill=\"#e58139\" stroke=\"black\" d=\"M2410.5,-179.5C2410.5,-179.5 2329.5,-179.5 2329.5,-179.5 2323.5,-179.5 2317.5,-173.5 2317.5,-167.5 2317.5,-167.5 2317.5,-123.5 2317.5,-123.5 2317.5,-117.5 2323.5,-111.5 2329.5,-111.5 2329.5,-111.5 2410.5,-111.5 2410.5,-111.5 2416.5,-111.5 2422.5,-117.5 2422.5,-123.5 2422.5,-123.5 2422.5,-167.5 2422.5,-167.5 2422.5,-173.5 2416.5,-179.5 2410.5,-179.5\"/>\n<text text-anchor=\"middle\" x=\"2370\" y=\"-164.3\" font-family=\"Helvetica,sans-Serif\" font-size=\"14.00\">entropy = 0.0</text>\n<text text-anchor=\"middle\" x=\"2370\" y=\"-149.3\" font-family=\"Helvetica,sans-Serif\" font-size=\"14.00\">samples = 26</text>\n<text text-anchor=\"middle\" x=\"2370\" y=\"-134.3\" font-family=\"Helvetica,sans-Serif\" font-size=\"14.00\">value = [26, 0]</text>\n<text text-anchor=\"middle\" x=\"2370\" y=\"-119.3\" font-family=\"Helvetica,sans-Serif\" font-size=\"14.00\">class = 0</text>\n</g>\n<!-- 44&#45;&gt;45 -->\n<g id=\"edge45\" class=\"edge\">\n<title>44&#45;&gt;45</title>\n<path fill=\"none\" stroke=\"black\" d=\"M2370,-222.91C2370,-212.2 2370,-200.62 2370,-189.78\"/>\n<polygon fill=\"black\" stroke=\"black\" points=\"2373.5,-189.67 2370,-179.67 2366.5,-189.67 2373.5,-189.67\"/>\n</g>\n<!-- 46 -->\n<g id=\"node47\" class=\"node\">\n<title>46</title>\n<path fill=\"#e9965a\" stroke=\"black\" d=\"M2573.5,-187C2573.5,-187 2452.5,-187 2452.5,-187 2446.5,-187 2440.5,-181 2440.5,-175 2440.5,-175 2440.5,-116 2440.5,-116 2440.5,-110 2446.5,-104 2452.5,-104 2452.5,-104 2573.5,-104 2573.5,-104 2579.5,-104 2585.5,-110 2585.5,-116 2585.5,-116 2585.5,-175 2585.5,-175 2585.5,-181 2579.5,-187 2573.5,-187\"/>\n<text text-anchor=\"middle\" x=\"2513\" y=\"-171.8\" font-family=\"Helvetica,sans-Serif\" font-size=\"14.00\">ever_married &lt;= 0.5</text>\n<text text-anchor=\"middle\" x=\"2513\" y=\"-156.8\" font-family=\"Helvetica,sans-Serif\" font-size=\"14.00\">entropy = 0.592</text>\n<text text-anchor=\"middle\" x=\"2513\" y=\"-141.8\" font-family=\"Helvetica,sans-Serif\" font-size=\"14.00\">samples = 28</text>\n<text text-anchor=\"middle\" x=\"2513\" y=\"-126.8\" font-family=\"Helvetica,sans-Serif\" font-size=\"14.00\">value = [24, 4]</text>\n<text text-anchor=\"middle\" x=\"2513\" y=\"-111.8\" font-family=\"Helvetica,sans-Serif\" font-size=\"14.00\">class = 0</text>\n</g>\n<!-- 44&#45;&gt;46 -->\n<g id=\"edge46\" class=\"edge\">\n<title>44&#45;&gt;46</title>\n<path fill=\"none\" stroke=\"black\" d=\"M2419.61,-222.91C2431.26,-213.38 2443.76,-203.15 2455.71,-193.37\"/>\n<polygon fill=\"black\" stroke=\"black\" points=\"2457.95,-196.06 2463.47,-187.02 2453.52,-190.64 2457.95,-196.06\"/>\n</g>\n<!-- 47 -->\n<g id=\"node48\" class=\"node\">\n<title>47</title>\n<path fill=\"#9ccef2\" stroke=\"black\" d=\"M2536,-68C2536,-68 2444,-68 2444,-68 2438,-68 2432,-62 2432,-56 2432,-56 2432,-12 2432,-12 2432,-6 2438,0 2444,0 2444,0 2536,0 2536,0 2542,0 2548,-6 2548,-12 2548,-12 2548,-56 2548,-56 2548,-62 2542,-68 2536,-68\"/>\n<text text-anchor=\"middle\" x=\"2490\" y=\"-52.8\" font-family=\"Helvetica,sans-Serif\" font-size=\"14.00\">entropy = 0.918</text>\n<text text-anchor=\"middle\" x=\"2490\" y=\"-37.8\" font-family=\"Helvetica,sans-Serif\" font-size=\"14.00\">samples = 3</text>\n<text text-anchor=\"middle\" x=\"2490\" y=\"-22.8\" font-family=\"Helvetica,sans-Serif\" font-size=\"14.00\">value = [1, 2]</text>\n<text text-anchor=\"middle\" x=\"2490\" y=\"-7.8\" font-family=\"Helvetica,sans-Serif\" font-size=\"14.00\">class = 1</text>\n</g>\n<!-- 46&#45;&gt;47 -->\n<g id=\"edge47\" class=\"edge\">\n<title>46&#45;&gt;47</title>\n<path fill=\"none\" stroke=\"black\" d=\"M2504.44,-103.73C2502.69,-95.43 2500.85,-86.67 2499.09,-78.28\"/>\n<polygon fill=\"black\" stroke=\"black\" points=\"2502.48,-77.37 2496.99,-68.3 2495.62,-78.81 2502.48,-77.37\"/>\n</g>\n<!-- 48 -->\n<g id=\"node49\" class=\"node\">\n<title>48</title>\n<path fill=\"#e78c4a\" stroke=\"black\" d=\"M2670,-68C2670,-68 2578,-68 2578,-68 2572,-68 2566,-62 2566,-56 2566,-56 2566,-12 2566,-12 2566,-6 2572,0 2578,0 2578,0 2670,0 2670,0 2676,0 2682,-6 2682,-12 2682,-12 2682,-56 2682,-56 2682,-62 2676,-68 2670,-68\"/>\n<text text-anchor=\"middle\" x=\"2624\" y=\"-52.8\" font-family=\"Helvetica,sans-Serif\" font-size=\"14.00\">entropy = 0.402</text>\n<text text-anchor=\"middle\" x=\"2624\" y=\"-37.8\" font-family=\"Helvetica,sans-Serif\" font-size=\"14.00\">samples = 25</text>\n<text text-anchor=\"middle\" x=\"2624\" y=\"-22.8\" font-family=\"Helvetica,sans-Serif\" font-size=\"14.00\">value = [23, 2]</text>\n<text text-anchor=\"middle\" x=\"2624\" y=\"-7.8\" font-family=\"Helvetica,sans-Serif\" font-size=\"14.00\">class = 0</text>\n</g>\n<!-- 46&#45;&gt;48 -->\n<g id=\"edge48\" class=\"edge\">\n<title>46&#45;&gt;48</title>\n<path fill=\"none\" stroke=\"black\" d=\"M2554.33,-103.73C2563.67,-94.51 2573.58,-84.74 2582.91,-75.53\"/>\n<polygon fill=\"black\" stroke=\"black\" points=\"2585.58,-77.81 2590.24,-68.3 2580.67,-72.83 2585.58,-77.81\"/>\n</g>\n</g>\n</svg>\n",
      "text/plain": [
       "<graphviz.sources.Source at 0x2636abc0610>"
      ]
     },
     "execution_count": 51,
     "metadata": {},
     "output_type": "execute_result"
    }
   ],
   "source": [
    "from sklearn import tree\n",
    "import graphviz \n",
    "\n",
    "dt_feature_names = list(X1.columns)  \n",
    "dot_data = tree.export_graphviz(model, \n",
    "                              feature_names=dt_feature_names,  \n",
    "                              class_names=np.unique(y_trainset), filled=True, rounded = True)\n",
    "\n",
    "graph = graphviz.Source(dot_data) \n",
    "graph"
   ]
  },
  {
   "cell_type": "markdown",
   "metadata": {},
   "source": [
    "# Exporting the image to a file"
   ]
  },
  {
   "cell_type": "code",
   "execution_count": 208,
   "metadata": {},
   "outputs": [],
   "source": [
    "import pydotplus\n",
    "from six import StringIO\n",
    "\n",
    "dot = StringIO()\n",
    "dt_feature_names = list(X1.columns)\n",
    "# this makes the tree (graph object) and is stores in dot_data1, and output is saved in  outputfile: 'dot'\n",
    "dot_data1 = tree.export_graphviz(model, out_file= dot, \n",
    "                              feature_names=dt_feature_names,  \n",
    "                              class_names=np.unique(y_trainset), filled=True, rounded = True)"
   ]
  },
  {
   "cell_type": "code",
   "execution_count": 209,
   "metadata": {},
   "outputs": [
    {
     "data": {
      "text/plain": [
       "True"
      ]
     },
     "execution_count": 209,
     "metadata": {},
     "output_type": "execute_result"
    }
   ],
   "source": [
    "filename = \"model5.png\"\n",
    "     # pydotplus uses graph\n",
    "graph = pydotplus.graph_from_dot_data(dot.getvalue())  \n",
    "graph.write_png(filename)"
   ]
  },
  {
   "cell_type": "code",
   "execution_count": 210,
   "metadata": {},
   "outputs": [
    {
     "data": {
      "text/plain": [
       "<matplotlib.image.AxesImage at 0x25c3207d3a0>"
      ]
     },
     "execution_count": 210,
     "metadata": {},
     "output_type": "execute_result"
    },
    {
     "data": {
      "image/png": "[encoded data removed]",
      "text/plain": [
       "<Figure size 1080x1440 with 1 Axes>"
      ]
     },
     "metadata": {
      "needs_background": "light"
     },
     "output_type": "display_data"
    }
   ],
   "source": [
    "import matplotlib.image as mpimg\n",
    "img = mpimg.imread(filename)\n",
    "plt.figure(figsize=(15, 20))\n",
    "plt.imshow(img)"
   ]
  },
  {
   "cell_type": "code",
   "execution_count": null,
   "metadata": {},
   "outputs": [],
   "source": []
  },
  {
   "cell_type": "code",
   "execution_count": null,
   "metadata": {},
   "outputs": [],
   "source": []
  },
  {
   "cell_type": "code",
   "execution_count": null,
   "metadata": {},
   "outputs": [],
   "source": [
    "# import pydotplus\n",
    "# import sklearn.tree as tree\n",
    "# from IPython.display import Image\n",
    "\n",
    "# dt_feature_names = list(X.columns)\n",
    "# dt_target_names = [str(s) for s in Y.unique()]\n",
    "# tree.export_graphviz(dt, out_file='tree.dot', \n",
    "#     feature_names=dt_feature_names, class_names=dt_target_names,\n",
    "#     filled=True)  \n",
    "# graph = pydotplus.graph_from_dot_file('tree.dot')\n",
    "# Image(graph.create_png())"
   ]
  }
 ],
 "metadata": {
  "kernelspec": {
   "display_name": "Python 3.9.2 64-bit",
   "language": "python",
   "name": "python3"
  },
  "language_info": {
   "codemirror_mode": {
    "name": "ipython",
    "version": 3
   },
   "file_extension": ".py",
   "mimetype": "text/x-python",
   "name": "python",
   "nbconvert_exporter": "python",
   "pygments_lexer": "ipython3",
   "version": "3.9.2"
  },
  "orig_nbformat": 4,
  "vscode": {
   "interpreter": {
    "hash": "d816a64555e2e6c17bf4c4f5776e26edc6eefc166129356d4718ae49e1c8c667"
   }
  }
 },
 "nbformat": 4,
 "nbformat_minor": 2
}
